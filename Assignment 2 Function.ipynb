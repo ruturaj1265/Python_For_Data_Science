{
 "cells": [
  {
   "cell_type": "code",
   "execution_count": 4,
   "id": "3bf0283c",
   "metadata": {},
   "outputs": [
    {
     "name": "stdout",
     "output_type": "stream",
     "text": [
      "11\n",
      "11\n"
     ]
    }
   ],
   "source": [
    "# 1. What is a lambda function in Python, and how does it differ from a regular function?\n",
    "# Ans. a lambda function is a small anonymous function that can have any number of input parameters but can only have one expression.\n",
    "# It is also known as a \"lambda expression\" or \"lambda form.\n",
    "# lambda function is defined as :\n",
    "number = lambda x,y : x + y\n",
    "print(number(5,6))\n",
    "# Lambda function is anonymous function it evaluated the code in just one line other than reguler function.\n",
    "def add_num(a,b):\n",
    "    return a+b\n",
    "print(add_num(5,6))"
   ]
  },
  {
   "cell_type": "code",
   "execution_count": 8,
   "id": "cd14ef99",
   "metadata": {},
   "outputs": [
    {
     "name": "stdout",
     "output_type": "stream",
     "text": [
      "15\n"
     ]
    }
   ],
   "source": [
    "# 2. Can a lambda function in Python have multiple arguments? If yes, how can you define and use them?\n",
    "# Ans. \n",
    "# Yes, lambda function in python can have multiple arguments.\n",
    "num = lambda a,b,c,d,e : a + b + c + d + e\n",
    "print(num(1,2,3,4,5))"
   ]
  },
  {
   "cell_type": "code",
   "execution_count": 9,
   "id": "c26cf6d7",
   "metadata": {},
   "outputs": [
    {
     "name": "stdout",
     "output_type": "stream",
     "text": [
      "25\n"
     ]
    }
   ],
   "source": [
    "# 3. How are lambda functions typically used in Python? Provide an example use case.\n",
    "# syntax for lamda function is lambda arguments : expression\n",
    "\n",
    "sq_num = lambda x: x**2\n",
    "print(sq_num(5))"
   ]
  },
  {
   "cell_type": "code",
   "execution_count": 10,
   "id": "19465daf",
   "metadata": {},
   "outputs": [],
   "source": [
    "# 4. What are the advantages and limitations of lambda functions compared to regular functions in Python?\n",
    "# Ans.\n",
    "# Lambda functions allow you to write simple, one-line functions without the need to define a full function using the def keyword.\n",
    "# This makes the code more compact and easier to read in certain situations.\n",
    "# For short, straightforward operations, lambda functions can make the code more readable,\n",
    "# especially when used as arguments to higher-order functions like map(), filter(), and reduce().\n",
    "# lambda functions are anonymous and don't have a name, they help avoid cluttering the namespace with small utility functions that might only be used once.\n",
    "# Limitations : \n",
    "# Lambda functions are restricted to a single expression in their body.\n",
    "# This limitation means they are not suitable for more complex logic that requires multiple statements.\n",
    "# Lambda functions cannot contain statements like if, else, for, or while, which further limits their ability to handle more complex operations.\n",
    "# Lambda functions are often designed for single-use scenarios and are not intended for repeated use throughout the codebase.\n",
    "# Regular functions, on the other hand, are reusable and can be called from multiple locations."
   ]
  },
  {
   "cell_type": "code",
   "execution_count": 11,
   "id": "c55df001",
   "metadata": {},
   "outputs": [
    {
     "name": "stdout",
     "output_type": "stream",
     "text": [
      "18\n"
     ]
    }
   ],
   "source": [
    "# 5. Are lambda functions in Python able to access variables defined outside of their own scope? Explain with an example.\n",
    "# Yes, lambda functions in Python can access variables defined outside of their own scope. \n",
    "# This concept is known as \"lexical scoping\" or \"closure.\"\n",
    "# Lambda functions have access to variables from the containing scope, including global variables and variables from enclosing functions.\n",
    "def outer_function(x):\n",
    "    y = 10\n",
    "    lambda_func = lambda z: x + y + z\n",
    "    return lambda_func\n",
    "\n",
    "my_lambda = outer_function(5)\n",
    "result = my_lambda(3)\n",
    "print(result) \n"
   ]
  },
  {
   "cell_type": "code",
   "execution_count": 2,
   "id": "91328524",
   "metadata": {},
   "outputs": [
    {
     "name": "stdout",
     "output_type": "stream",
     "text": [
      "Enter the number which you want to square5\n",
      "25\n"
     ]
    }
   ],
   "source": [
    "# 6. Write a lambda function to calculate the square of a given number.\n",
    "# Ans.\n",
    "sqr_num = lambda : int(input(\"Enter the number which you want to square\"))**2\n",
    "print(sqr_num())"
   ]
  },
  {
   "cell_type": "code",
   "execution_count": 6,
   "id": "a3a9a096",
   "metadata": {},
   "outputs": [
    {
     "name": "stdout",
     "output_type": "stream",
     "text": [
      "4\n"
     ]
    }
   ],
   "source": [
    "# 7. Create a lambda function to find the maximum value in a list of integers.\n",
    "# Ans.\n",
    "l = [1,2,3,4]\n",
    "m = lambda : max(l)\n",
    "print(m())"
   ]
  },
  {
   "cell_type": "code",
   "execution_count": 45,
   "id": "75095968",
   "metadata": {},
   "outputs": [
    {
     "name": "stdout",
     "output_type": "stream",
     "text": [
      "[2, 4, 6, 86, 90]\n"
     ]
    }
   ],
   "source": [
    "# 8. Implement a lambda function to filter out all the even numbers from a list of integers.\n",
    "# Ans.\n",
    "nm = [1,2,3,4,65,6,85,86,90]\n",
    "even_num = list(filter(lambda x : (x%2 == 0),nm))\n",
    "print(even_num)"
   ]
  },
  {
   "cell_type": "code",
   "execution_count": 64,
   "id": "4a4275a1",
   "metadata": {},
   "outputs": [
    {
     "name": "stdout",
     "output_type": "stream",
     "text": [
      "['Apple', 'Orange', 'Bananas', 'Pineapple']\n"
     ]
    }
   ],
   "source": [
    "# 9. Write a lambda function to sort a list of strings in ascending order based on the length of each string.\n",
    "# Ans.\n",
    "\n",
    "name = [\"Apple\" , \"Bananas\", \"Orange\", \"Pineapple\"]\n",
    "\n",
    "sort_by_len = lambda x : len(x)\n",
    "\n",
    "sorted_string = sorted(name, key = sort_by_len)\n",
    "\n",
    "print(sorted_string)"
   ]
  },
  {
   "cell_type": "code",
   "execution_count": 68,
   "id": "9224d1e6",
   "metadata": {},
   "outputs": [
    {
     "name": "stdout",
     "output_type": "stream",
     "text": [
      "[3, 4]\n"
     ]
    }
   ],
   "source": [
    "# 10. Create a lambda function that takes two lists as input and returns a new list containing the common elements between the two lists.\n",
    "# Ans.\n",
    "s = [1,2,3,4]\n",
    "s1 = [3,4,5,6]\n",
    "\n",
    "common_num = lambda s,s1 : list(filter(lambda x: x in s,s1))\n",
    "print(common_num(s,s1))"
   ]
  },
  {
   "cell_type": "code",
   "execution_count": 69,
   "id": "49d687ce",
   "metadata": {},
   "outputs": [
    {
     "name": "stdout",
     "output_type": "stream",
     "text": [
      "The factorial of 5 is: 120\n"
     ]
    }
   ],
   "source": [
    "# 11. Write a recursive function to calculate the factorial of a given positive integer.\n",
    "# Ans. \n",
    "def factorial(n):\n",
    "    if n == 0 or n == 1:\n",
    "        return 1\n",
    "    else:\n",
    "        return n * factorial(n - 1)\n",
    "number = 5\n",
    "result = factorial(number)\n",
    "print(f\"The factorial of {number} is: {result}\") \n"
   ]
  },
  {
   "cell_type": "code",
   "execution_count": 73,
   "id": "723a9c81",
   "metadata": {},
   "outputs": [
    {
     "name": "stdout",
     "output_type": "stream",
     "text": [
      "8\n"
     ]
    }
   ],
   "source": [
    "# 12. Implement a recursive function to compute the nth Fibonacci number.\n",
    "# Ans.\n",
    "def fibonacci(n):\n",
    "    if n <= 0:\n",
    "        print(\"Input must be a positive integer.\")\n",
    "    elif n == 1:\n",
    "        return 0\n",
    "    elif n == 2:\n",
    "        return 1\n",
    "    else:\n",
    "        return fibonacci(n - 1) + fibonacci(n - 2)\n",
    "print(fibonacci(7))"
   ]
  },
  {
   "cell_type": "code",
   "execution_count": 77,
   "id": "5220be19",
   "metadata": {},
   "outputs": [
    {
     "name": "stdout",
     "output_type": "stream",
     "text": [
      "15\n"
     ]
    }
   ],
   "source": [
    "# 13. Create a recursive function to find the sum of all the elements in a given list.\n",
    "# Ans.\n",
    "def recursive_sum(n):\n",
    "    if not n:\n",
    "        return 0\n",
    "    else:\n",
    "        return n[0] + recursive_sum(n[1:])\n",
    "print(recursive_sum([1,2,3,4,5]))"
   ]
  },
  {
   "cell_type": "code",
   "execution_count": 88,
   "id": "03192f0c",
   "metadata": {},
   "outputs": [
    {
     "name": "stdout",
     "output_type": "stream",
     "text": [
      "String is palindrome\n"
     ]
    }
   ],
   "source": [
    "# 14. Write a recursive function to determine whether a given string is a palindrome.\n",
    "# Ans. \n",
    "def is_palindrome(a):\n",
    "    b = a[-1::-1]\n",
    "    if a==b:\n",
    "        print(\"String is palindrome\")\n",
    "    else:\n",
    "        print(\"String is not palindrome\")\n",
    "is_palindrome(\"racecar\")"
   ]
  },
  {
   "cell_type": "code",
   "execution_count": 92,
   "id": "2ff401e3",
   "metadata": {},
   "outputs": [
    {
     "name": "stdout",
     "output_type": "stream",
     "text": [
      "1\n"
     ]
    }
   ],
   "source": [
    "# 15. Implement a recursive function to find the greatest common divisor (GCD) of two positive integers.\n",
    "# Ans.\n",
    "def gcd(a, b):\n",
    "    if b == 0:\n",
    "        return a\n",
    "    else:\n",
    "        return gcd(b, a % b)\n",
    "print(gcd(5,6))"
   ]
  },
  {
   "cell_type": "code",
   "execution_count": null,
   "id": "628a37a9",
   "metadata": {},
   "outputs": [],
   "source": []
  }
 ],
 "metadata": {
  "kernelspec": {
   "display_name": "Python 3 (ipykernel)",
   "language": "python",
   "name": "python3"
  },
  "language_info": {
   "codemirror_mode": {
    "name": "ipython",
    "version": 3
   },
   "file_extension": ".py",
   "mimetype": "text/x-python",
   "name": "python",
   "nbconvert_exporter": "python",
   "pygments_lexer": "ipython3",
   "version": "3.10.9"
  }
 },
 "nbformat": 4,
 "nbformat_minor": 5
}
