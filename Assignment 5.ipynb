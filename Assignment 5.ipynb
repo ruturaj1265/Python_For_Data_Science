{
 "cells": [
  {
   "cell_type": "markdown",
   "id": "e7013b29",
   "metadata": {},
   "source": [
    "# ASSIGNMENT 5"
   ]
  },
  {
   "cell_type": "code",
   "execution_count": 1,
   "id": "7a9da782",
   "metadata": {},
   "outputs": [
    {
     "name": "stdout",
     "output_type": "stream",
     "text": [
      "{}\n"
     ]
    }
   ],
   "source": [
    "#Q.1 What does an empty dictionary&#39;s code look like?\n",
    "# Ans. \n",
    "my_dict = {}\n",
    "print(my_dict)"
   ]
  },
  {
   "cell_type": "code",
   "execution_count": 5,
   "id": "896e2c88",
   "metadata": {},
   "outputs": [
    {
     "name": "stdout",
     "output_type": "stream",
     "text": [
      "42\n"
     ]
    }
   ],
   "source": [
    "# Q.2 What is the value of a dictionary value with the key 'foo' and the value 42?\n",
    "# Ans \n",
    "my_dict = {'foo':42}\n",
    "value = my_dict['foo']\n",
    "print(value)"
   ]
  },
  {
   "cell_type": "code",
   "execution_count": 6,
   "id": "51bcd6d8",
   "metadata": {},
   "outputs": [],
   "source": [
    "# Q.3 What is the most significant distinction between a dictionary and a list?\n",
    "# Ans. A dictionary stores data as key-value pairs, while a list stores data as ordered elements.\n",
    "# Dictionary elements are accessed by their unique keys, while list elements are accessed by their indices.\n",
    "# Dictionary keys must be unique and immutable, while list elements can be repeated and mutable."
   ]
  },
  {
   "cell_type": "code",
   "execution_count": 9,
   "id": "359ceb7d",
   "metadata": {},
   "outputs": [
    {
     "ename": "KeyError",
     "evalue": "'foo'",
     "output_type": "error",
     "traceback": [
      "\u001b[1;31m---------------------------------------------------------------------------\u001b[0m",
      "\u001b[1;31mKeyError\u001b[0m                                  Traceback (most recent call last)",
      "Cell \u001b[1;32mIn[9], line 4\u001b[0m\n\u001b[0;32m      1\u001b[0m \u001b[38;5;66;03m# Q.4 4. What happens if you try to access spam['foo'] if spam is {'bar': 100}?\u001b[39;00m\n\u001b[0;32m      2\u001b[0m \u001b[38;5;66;03m#Ans. If you try to access spam['foo'] when spam is {'bar': 100}, you will encounter a KeyError because the key 'foo' does not exist in the dictionary spam.\u001b[39;00m\n\u001b[0;32m      3\u001b[0m spam \u001b[38;5;241m=\u001b[39m {\u001b[38;5;124m'\u001b[39m\u001b[38;5;124mbar\u001b[39m\u001b[38;5;124m'\u001b[39m : \u001b[38;5;241m100\u001b[39m}\n\u001b[1;32m----> 4\u001b[0m d \u001b[38;5;241m=\u001b[39m \u001b[43mspam\u001b[49m\u001b[43m[\u001b[49m\u001b[38;5;124;43m'\u001b[39;49m\u001b[38;5;124;43mfoo\u001b[39;49m\u001b[38;5;124;43m'\u001b[39;49m\u001b[43m]\u001b[49m\n\u001b[0;32m      5\u001b[0m \u001b[38;5;28mprint\u001b[39m(d)\n",
      "\u001b[1;31mKeyError\u001b[0m: 'foo'"
     ]
    }
   ],
   "source": [
    "# Q.4 What happens if you try to access spam['foo'] if spam is {'bar': 100}?\n",
    "#Ans. If you try to access spam['foo'] when spam is {'bar': 100}, you will encounter a KeyError because the key 'foo' does not exist in the dictionary spam.\n",
    "spam = {'bar' : 100}\n",
    "d = spam['foo']\n",
    "print(d)"
   ]
  },
  {
   "cell_type": "code",
   "execution_count": 13,
   "id": "8b607774",
   "metadata": {},
   "outputs": [
    {
     "name": "stdout",
     "output_type": "stream",
     "text": [
      "Key 'cat' exist in spam\n",
      "key cat is present in spam.keys\n"
     ]
    }
   ],
   "source": [
    "# Q.5 If a dictionary is stored in spam, what is the difference between the expressions \"cat\" in spam and \"cat\" in spam.keys()?\n",
    "# Ans. \n",
    "spam = {\"cat\": \"meow\", \"Dog\":\"bark\"}\n",
    "if 'cat' in spam:\n",
    "    print(\"Key 'cat' exist in spam\")\n",
    "\n",
    "if 'cat' in spam.keys():\n",
    "    print(\"key cat is present in spam.keys\")"
   ]
  },
  {
   "cell_type": "code",
   "execution_count": 18,
   "id": "1e67b36c",
   "metadata": {},
   "outputs": [
    {
     "name": "stdout",
     "output_type": "stream",
     "text": [
      "Key cat is available in spam\n",
      "cat is a value in spam\n"
     ]
    }
   ],
   "source": [
    "# Q.6 If a dictionary is stored in spam, what is the difference between the expressions 'cat' in spam and 'cat' in spam.values()?\n",
    "# Ans.\n",
    "spam = {\"cat\" : 'Meow', \"Dog\" : \"cat\"}\n",
    "if 'cat' in spam:\n",
    "    print(\"Key cat is available in spam\")\n",
    "if 'cat' in spam.values():\n",
    "    print(\"cat is a value in spam\")"
   ]
  },
  {
   "cell_type": "code",
   "execution_count": 70,
   "id": "0e3c2c84",
   "metadata": {},
   "outputs": [
    {
     "name": "stdout",
     "output_type": "stream",
     "text": [
      "{'Age': 21, 'name': 'Ruturaj', 'color': 'Black'}\n"
     ]
    }
   ],
   "source": [
    "# Q.7 What is a shortcut for the following code?\n",
    "#if 'color' not in spam:\n",
    "#spam['color'] = \"Black\"\n",
    "# Ans. \n",
    "spam = {\"Age\":21, 'name': 'Ruturaj'}\n",
    "spam.update({'color':'Black'})\n",
    "print(spam)"
   ]
  },
  {
   "cell_type": "code",
   "execution_count": 71,
   "id": "1dc91b8e",
   "metadata": {},
   "outputs": [
    {
     "name": "stdout",
     "output_type": "stream",
     "text": [
      "{'Age': 21, 'name': 'Ruturaj'}\n"
     ]
    }
   ],
   "source": [
    "#Q.8 How do you \"Pretty Print\" dictionary values using which module and function?\n",
    "#Ans. \n",
    "import pprint\n",
    "my_dict = {'name':'Ruturaj', 'Age':21}\n",
    "pprint.pprint(my_dict)"
   ]
  },
  {
   "cell_type": "code",
   "execution_count": null,
   "id": "cca0c520",
   "metadata": {},
   "outputs": [],
   "source": []
  }
 ],
 "metadata": {
  "kernelspec": {
   "display_name": "Python 3 (ipykernel)",
   "language": "python",
   "name": "python3"
  },
  "language_info": {
   "codemirror_mode": {
    "name": "ipython",
    "version": 3
   },
   "file_extension": ".py",
   "mimetype": "text/x-python",
   "name": "python",
   "nbconvert_exporter": "python",
   "pygments_lexer": "ipython3",
   "version": "3.10.9"
  }
 },
 "nbformat": 4,
 "nbformat_minor": 5
}
