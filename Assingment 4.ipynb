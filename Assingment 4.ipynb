{
 "cells": [
  {
   "cell_type": "markdown",
   "id": "f76962ab",
   "metadata": {},
   "source": [
    "# Assignment 4"
   ]
  },
  {
   "cell_type": "code",
   "execution_count": 1,
   "id": "f62b252c",
   "metadata": {},
   "outputs": [
    {
     "data": {
      "text/plain": [
       "list"
      ]
     },
     "execution_count": 1,
     "metadata": {},
     "output_type": "execute_result"
    }
   ],
   "source": [
    "# 1. What exactly is []?\n",
    "# Ans.\n",
    "l =[]\n",
    "type(l)"
   ]
  },
  {
   "cell_type": "code",
   "execution_count": 5,
   "id": "e11442f9",
   "metadata": {},
   "outputs": [
    {
     "name": "stdout",
     "output_type": "stream",
     "text": [
      "[2, 4, 6, 'Hello', 8, 10]\n"
     ]
    }
   ],
   "source": [
    "# 2. In a list of values stored in a variable called spam, how would you assign the value 'hello' as the\n",
    "# third value? (Assume [2, 4, 6, 8, 10] are in spam.)\n",
    "# Ans. \n",
    "spam = [2,4,6,8,10]\n",
    "spam.insert(3,'Hello')\n",
    "print(spam)"
   ]
  },
  {
   "cell_type": "code",
   "execution_count": 11,
   "id": "20e20c8b",
   "metadata": {},
   "outputs": [
    {
     "name": "stdout",
     "output_type": "stream",
     "text": [
      "[3]\n"
     ]
    }
   ],
   "source": [
    "# 3. What is the value of spam[int(int('3' * 2) / 11)]?\n",
    "# Ans. \n",
    "spam = print([int(int('3'*2)/11)])"
   ]
  },
  {
   "cell_type": "code",
   "execution_count": 14,
   "id": "15c9a2be",
   "metadata": {},
   "outputs": [
    {
     "data": {
      "text/plain": [
       "10"
      ]
     },
     "execution_count": 14,
     "metadata": {},
     "output_type": "execute_result"
    }
   ],
   "source": [
    "# 4. What is the value of spam[-1]?\n",
    "# Ans. \n",
    "spam = [2,4,6,8,10]\n",
    "spam[-1]"
   ]
  },
  {
   "cell_type": "code",
   "execution_count": 15,
   "id": "68013016",
   "metadata": {},
   "outputs": [
    {
     "data": {
      "text/plain": [
       "[2, 4, 6]"
      ]
     },
     "execution_count": 15,
     "metadata": {},
     "output_type": "execute_result"
    }
   ],
   "source": [
    "# 5. What is the value of spam[:2]?\n",
    "spam[:-2]"
   ]
  },
  {
   "cell_type": "code",
   "execution_count": 29,
   "id": "fb5a077f",
   "metadata": {},
   "outputs": [],
   "source": [
    "bacon = [3.14, 'cat', 11 ,'cat', True]"
   ]
  },
  {
   "cell_type": "code",
   "execution_count": 30,
   "id": "eb40e061",
   "metadata": {},
   "outputs": [
    {
     "name": "stdout",
     "output_type": "stream",
     "text": [
      "1\n"
     ]
    }
   ],
   "source": [
    "# 6. What is the value of bacon.index('cat')?\n",
    "print(bacon.index('cat'))"
   ]
  },
  {
   "cell_type": "code",
   "execution_count": 22,
   "id": "6ef9fd95",
   "metadata": {},
   "outputs": [
    {
     "data": {
      "text/plain": [
       "[3.14, 'cat', 11, 'cat', True, 99, 99, 99]"
      ]
     },
     "execution_count": 22,
     "metadata": {},
     "output_type": "execute_result"
    }
   ],
   "source": [
    "# 7. How does bacon.append(99) change the look of the list value in bacon?\n",
    "# Ans. \n",
    "bacon.append(99)\n",
    "# append function append the item in the last index of the list.\n",
    "bacon"
   ]
  },
  {
   "cell_type": "code",
   "execution_count": 31,
   "id": "a209cd32",
   "metadata": {},
   "outputs": [],
   "source": [
    "# 8. How does bacon.remove('cat') change the look of the list in bacon?\n",
    "# Ans.\n",
    "bacon.remove('cat')\n",
    "# bacon.remove('cat') function removes the specific character from the list which we have assigned 'cat' It will remove from the first position in the list."
   ]
  },
  {
   "cell_type": "code",
   "execution_count": 32,
   "id": "033649b3",
   "metadata": {},
   "outputs": [
    {
     "data": {
      "text/plain": [
       "[3.14, 11, 'cat', True]"
      ]
     },
     "execution_count": 32,
     "metadata": {},
     "output_type": "execute_result"
    }
   ],
   "source": [
    "bacon"
   ]
  },
  {
   "cell_type": "code",
   "execution_count": 34,
   "id": "440a4431",
   "metadata": {},
   "outputs": [
    {
     "name": "stdout",
     "output_type": "stream",
     "text": [
      "[1, 2, 3, 4, 5, 6]\n",
      "[1, 2, 3, 1, 2, 3, 1, 2, 3]\n"
     ]
    }
   ],
   "source": [
    "# 9. What are the list concatenation and list replication operators?\n",
    "# Ans.\n",
    "# The '+' operator is used to concatenate two or more lists, creating a new list that contains all the elements of the original lists in the order they appear.\n",
    "a = [1,2,3]\n",
    "b = [4,5,6]\n",
    "c = a+b\n",
    "print(c)\n",
    "\n",
    "# The '*' operator is used to replicate a list a certain number of times, creating a new list with the repeated elements.\n",
    "z = a*3\n",
    "print(z)"
   ]
  },
  {
   "cell_type": "code",
   "execution_count": 36,
   "id": "2314eb85",
   "metadata": {},
   "outputs": [],
   "source": [
    "# 10. What is difference between the list methods append() and insert()?\n",
    "# Ans. append() : This method is append the character i.e int or str in the last position of the list. By using append() \n",
    "# function we cannot add value in the list by assigning position.\n",
    "# insert() : This function is use to add the value in the list by assigning position and value.\n",
    "# i.e suppose we have to add \"Ruturaj\" in the bacon list then we will simply use bacon.insert(2,\"Ruturaj\")\n",
    "bacon.insert(2,\"Ruturaj\")"
   ]
  },
  {
   "cell_type": "code",
   "execution_count": 37,
   "id": "feccd62f",
   "metadata": {},
   "outputs": [
    {
     "data": {
      "text/plain": [
       "[3.14, 11, 'Ruturaj', 'cat', True]"
      ]
     },
     "execution_count": 37,
     "metadata": {},
     "output_type": "execute_result"
    }
   ],
   "source": [
    "bacon"
   ]
  },
  {
   "cell_type": "code",
   "execution_count": 41,
   "id": "1fedff0a",
   "metadata": {},
   "outputs": [
    {
     "name": "stdout",
     "output_type": "stream",
     "text": [
      "8\n"
     ]
    },
    {
     "data": {
      "text/plain": [
       "[2, 4, 6]"
      ]
     },
     "execution_count": 41,
     "metadata": {},
     "output_type": "execute_result"
    }
   ],
   "source": [
    "# 11. What are the two methods for removing items from a list?\n",
    "# Ans.\n",
    "# (1)  pop() : This method removes the last element of the list or we can use index of the element to del from the list.\n",
    "print(spam.pop())\n",
    "\n",
    "# (2) remove() : By using this method we can able to remove specific which we want to remove by calling it \n"
   ]
  },
  {
   "cell_type": "code",
   "execution_count": 44,
   "id": "e1953ba2",
   "metadata": {},
   "outputs": [
    {
     "data": {
      "text/plain": [
       "4"
      ]
     },
     "execution_count": 44,
     "metadata": {},
     "output_type": "execute_result"
    }
   ],
   "source": [
    "spam.pop(1)"
   ]
  },
  {
   "cell_type": "code",
   "execution_count": 45,
   "id": "d5795c01",
   "metadata": {},
   "outputs": [
    {
     "data": {
      "text/plain": [
       "[3.14, 11, 'Ruturaj', 'cat', True]"
      ]
     },
     "execution_count": 45,
     "metadata": {},
     "output_type": "execute_result"
    }
   ],
   "source": [
    "bacon"
   ]
  },
  {
   "cell_type": "code",
   "execution_count": 46,
   "id": "42f2bcc4",
   "metadata": {},
   "outputs": [],
   "source": [
    "bacon.remove(\"Ruturaj\")"
   ]
  },
  {
   "cell_type": "code",
   "execution_count": 47,
   "id": "bf8e0460",
   "metadata": {},
   "outputs": [
    {
     "data": {
      "text/plain": [
       "[3.14, 11, 'cat', True]"
      ]
     },
     "execution_count": 47,
     "metadata": {},
     "output_type": "execute_result"
    }
   ],
   "source": [
    "bacon"
   ]
  },
  {
   "cell_type": "code",
   "execution_count": 48,
   "id": "41fad500",
   "metadata": {},
   "outputs": [],
   "source": [
    "# 12. Describe how list values and string values are identical.\n",
    "# Ans.\n",
    "# Sequences: Both lists and strings are sequences, meaning they are ordered collections of elements.\n",
    "# In a list, the elements can be of any data type, while in a string, the elements are characters.\n",
    "# Indexing: Both lists and strings support indexing, which allows you to access individual elements in the sequence using square brackets and the index position.\n",
    "# Slicing: Both lists and strings can be sliced to extract a portion of the sequence. Slicing is done using the colon : notation.\n",
    "# Length: You can find the length of both lists and strings using the len() function.\n",
    "# Iteration: Both lists and strings can be iterated over using loops like for loops."
   ]
  },
  {
   "cell_type": "code",
   "execution_count": 49,
   "id": "4a2af022",
   "metadata": {},
   "outputs": [],
   "source": [
    "# 13. What is the difference between tuples and lists?\n",
    "# Ans. Tuples are immutable and on other hand list are mutable.\n",
    "# i.e In list we can add , remove and insert elements. But in Tuples we cannot add subtract elements that means we cannot modify tuples."
   ]
  },
  {
   "cell_type": "code",
   "execution_count": 52,
   "id": "681b7cef",
   "metadata": {},
   "outputs": [
    {
     "name": "stdout",
     "output_type": "stream",
     "text": [
      "42\n"
     ]
    }
   ],
   "source": [
    "# 14. How do you type a tuple value that only contains the integer 42?\n",
    "# Ans. \n",
    "t = (42)\n",
    "print(t)"
   ]
  },
  {
   "cell_type": "code",
   "execution_count": 54,
   "id": "fa9f50b9",
   "metadata": {},
   "outputs": [
    {
     "name": "stdout",
     "output_type": "stream",
     "text": [
      "[1, 2, 3, 4]\n",
      "(1, 2, 3, 4)\n"
     ]
    }
   ],
   "source": [
    "# 15. How do you get a list values tuple form? How do you get a tuple values list form?\n",
    "# Ans.\n",
    "t = (1,2,3,4)\n",
    "print(list(t))\n",
    "print(tuple(t))"
   ]
  },
  {
   "cell_type": "code",
   "execution_count": 55,
   "id": "c020f1a7",
   "metadata": {},
   "outputs": [],
   "source": [
    "# 16. Variables that contain list values are not necessarily lists themselves. Instead, what do they contain?\n",
    "# Ans.\n",
    "# When you create a list and assign it to a variable, the variable does not store the actual list data directly. it holds a reference to the memory location where the list elements are stored.\n",
    "# This reference allows you to access and manipulate the list elements through the variable.\n",
    "# you can use the copy() method or slicing to create a new list with the same elements."
   ]
  },
  {
   "cell_type": "code",
   "execution_count": 66,
   "id": "f3062994",
   "metadata": {},
   "outputs": [
    {
     "name": "stdout",
     "output_type": "stream",
     "text": [
      "[1, ['Ruturaj', 3], 4]\n",
      "[1, ['Ruturaj', 3], 4]\n",
      "[1, [2, 3], 4]\n",
      "[1, ['Ruturaj', 3], 4]\n"
     ]
    }
   ],
   "source": [
    "# 17. How do you distinguish between copy.copy() and copy.deepcopy()?\n",
    "# modifying the nested list within the shallow copy affects the original list because they share the same nested list object.\n",
    "# if you need to create an independent copy of an object and all its nested objects, you should use copy.deepcopy().\n",
    "# If you only need a top-level copy of an object and are okay with sharing references to nested objects, copy.copy() will be sufficient.\n",
    "import copy\n",
    "a = [1,[2,3],4]\n",
    "copy_copy = copy.copy(a)\n",
    "copy_copy[1][0] = \"Ruturaj\"\n",
    "print(a)\n",
    "print(copy_copy)\n",
    "\n",
    "\n",
    "z  = [1,[2,3],4]\n",
    "deep_copy = copy.deepcopy(z)\n",
    "deep_copy[1][0] = \"Ruturaj\"\n",
    "print(z)\n",
    "print(deep_copy)"
   ]
  },
  {
   "cell_type": "code",
   "execution_count": null,
   "id": "5977abcc",
   "metadata": {},
   "outputs": [],
   "source": []
  }
 ],
 "metadata": {
  "kernelspec": {
   "display_name": "Python 3 (ipykernel)",
   "language": "python",
   "name": "python3"
  },
  "language_info": {
   "codemirror_mode": {
    "name": "ipython",
    "version": 3
   },
   "file_extension": ".py",
   "mimetype": "text/x-python",
   "name": "python",
   "nbconvert_exporter": "python",
   "pygments_lexer": "ipython3",
   "version": "3.10.9"
  }
 },
 "nbformat": 4,
 "nbformat_minor": 5
}
