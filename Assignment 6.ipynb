{
 "cells": [
  {
   "cell_type": "markdown",
   "id": "2a7503a9",
   "metadata": {},
   "source": [
    "# ASSIGNMENT .06"
   ]
  },
  {
   "cell_type": "code",
   "execution_count": 1,
   "id": "0c5a4347",
   "metadata": {},
   "outputs": [
    {
     "name": "stdout",
     "output_type": "stream",
     "text": [
      "['False', 'None', 'True', 'and', 'as', 'assert', 'async', 'await', 'break', 'class', 'continue', 'def', 'del', 'elif', 'else', 'except', 'finally', 'for', 'from', 'global', 'if', 'import', 'in', 'is', 'lambda', 'nonlocal', 'not', 'or', 'pass', 'raise', 'return', 'try', 'while', 'with', 'yield']\n"
     ]
    }
   ],
   "source": [
    "# Q.1 What are keywords in python? Using the keyword library, print all the python keywords.\n",
    "# Ans. \n",
    "import keyword\n",
    "d = keyword.kwlist\n",
    "print(d)"
   ]
  },
  {
   "cell_type": "code",
   "execution_count": 8,
   "id": "1d4dac34",
   "metadata": {},
   "outputs": [
    {
     "ename": "SyntaxError",
     "evalue": "invalid decimal literal (4027497481.py, line 18)",
     "output_type": "error",
     "traceback": [
      "\u001b[1;36m  Cell \u001b[1;32mIn[8], line 18\u001b[1;36m\u001b[0m\n\u001b[1;33m    10num = 5\u001b[0m\n\u001b[1;37m     ^\u001b[0m\n\u001b[1;31mSyntaxError\u001b[0m\u001b[1;31m:\u001b[0m invalid decimal literal\n"
     ]
    }
   ],
   "source": [
    "# Q.2. What are the rules to create variables in python?\n",
    "# Ans. 1) Cannot start with number or special character.\n",
    "#      2) Cannot use reserved keyword as a variable which we have printed in above question.\n",
    "#      3) Variables can be created by using (A-z) character. Also we can use numbers in variable at the end or mid of the variable\n",
    "#      4) But cannot start with a number.\n",
    "\n",
    "num = 10   # Valid variable name\n",
    "print(num)\n",
    "_num = 10\n",
    "print(_num)\n",
    "_num10 = 10\n",
    "print(_num10)\n",
    "_10num = 10\n",
    "print(_10num)\n",
    "\n",
    "# Invalid variable name\n",
    "\n",
    "10num = 5\n",
    "print(10num)\n",
    "\n",
    "$num = 10\n",
    "print($num)"
   ]
  },
  {
   "cell_type": "code",
   "execution_count": 10,
   "id": "f17d2edf",
   "metadata": {},
   "outputs": [
    {
     "name": "stdout",
     "output_type": "stream",
     "text": [
      "Ruturaj\n",
      "Ruturaj\n"
     ]
    }
   ],
   "source": [
    "# Q.3. What are the standards and conventions followed for the nomenclature of variables in python to improve code readability and maintainability?\n",
    "# Ans. \n",
    "# 1) snake case\n",
    "# 2) Constant upper case\n",
    "\n",
    "my_name = \"Ruturaj\"\n",
    "MY_NAME = \"Ruturaj\"\n",
    "print(my_name)\n",
    "print(MY_NAME)"
   ]
  },
  {
   "cell_type": "code",
   "execution_count": 11,
   "id": "be2af8c7",
   "metadata": {},
   "outputs": [
    {
     "ename": "SyntaxError",
     "evalue": "invalid syntax (2420784959.py, line 3)",
     "output_type": "error",
     "traceback": [
      "\u001b[1;36m  Cell \u001b[1;32mIn[11], line 3\u001b[1;36m\u001b[0m\n\u001b[1;33m    if = 10\u001b[0m\n\u001b[1;37m       ^\u001b[0m\n\u001b[1;31mSyntaxError\u001b[0m\u001b[1;31m:\u001b[0m invalid syntax\n"
     ]
    }
   ],
   "source": [
    "# Q.4. What will happen if a keyword is used as a variable name?\n",
    "# Ans. It will give syntax error.\n",
    "if = 10\n",
    "print(if)"
   ]
  },
  {
   "cell_type": "code",
   "execution_count": 13,
   "id": "6e61c4b4",
   "metadata": {},
   "outputs": [
    {
     "name": "stdout",
     "output_type": "stream",
     "text": [
      "25\n"
     ]
    }
   ],
   "source": [
    "# Q.5 For what purpose def keyword is used?\n",
    "# Ans. def keyword in Python is used to define user-defined functions. By using def keyword we can modularize our code.\n",
    "def my_num(a):\n",
    "    result = a ** 2\n",
    "    return result\n",
    "print(my_num(5))"
   ]
  },
  {
   "cell_type": "code",
   "execution_count": 14,
   "id": "1ad45106",
   "metadata": {},
   "outputs": [],
   "source": [
    "# Q.6. What is the operation of this special character ‘\\’?\n",
    "#Ans. The special character \\ in Python (backslash) is known as the escape character."
   ]
  },
  {
   "cell_type": "code",
   "execution_count": 18,
   "id": "a3d1c958",
   "metadata": {},
   "outputs": [
    {
     "name": "stdout",
     "output_type": "stream",
     "text": [
      "[1, 2, 3, 4, 5, 6]\n",
      "{1, 3.2, 'Banana'}\n",
      "('Banana', 'Apple', 'Orange', 'Pineapple')\n"
     ]
    }
   ],
   "source": [
    "# Q.7. Give an example of the following conditions:\n",
    "# (i) Homogeneous list\n",
    "# (ii) Heterogeneous set\n",
    "# (iii) Homogeneous tuple\n",
    "# Ans. (i) Homogeneous list: A homogeneous list in Python is a list that contains elements of the same data type. \n",
    "#  (ii)  Heterogeneous set : A heterogeneous set in Python is a set that contains elements of different data types. \n",
    "# (iii) Homogeneous tuple : A homogeneous tuple in Python is a tuple that contains elements of the same data type. \n",
    "\n",
    "d = [1,2,3,4,5,6]   # Homogeneous list\n",
    "print(d)\n",
    "\n",
    "d = { 1, 'Banana', 3.20}\n",
    "print(d)\n",
    "\n",
    "d = (\"Banana\", \"Apple\", \"Orange\", \"Pineapple\")\n",
    "print(d)"
   ]
  },
  {
   "cell_type": "code",
   "execution_count": 24,
   "id": "1d24a117",
   "metadata": {},
   "outputs": [
    {
     "name": "stdout",
     "output_type": "stream",
     "text": [
      "[1, 2, 3, 4]\n",
      "[1, 10, 3, 4]\n",
      "[1, 3, 4]\n",
      "[1, 3, 4, 4, 5, 6]\n"
     ]
    }
   ],
   "source": [
    "# Q.8. Explain the mutable and immutable data types with proper explanation & examples.\n",
    "# Ans. \n",
    "# Mutable data typews is which we can modify it that means we can add, subtract or change the element from the list \n",
    "# Immutable data types are wehich we cannot modify the list. i.e we cannot add or subttract or change the element from list\n",
    "# We can add, subtract, delete , extend list\n",
    "my_list = [1,2,3]\n",
    "my_list.append(4)\n",
    "print(my_list)\n",
    "\n",
    "my_list[1] = 10\n",
    "print(my_list)\n",
    "\n",
    "my_list.remove(10)\n",
    "print(my_list)\n",
    "\n",
    "my_list.extend([4,5,6])\n",
    "print(my_list)"
   ]
  },
  {
   "cell_type": "code",
   "execution_count": 25,
   "id": "b9023b97",
   "metadata": {},
   "outputs": [
    {
     "name": "stdout",
     "output_type": "stream",
     "text": [
      "*\n",
      "***\n",
      "*****\n",
      "*******\n",
      "*********\n"
     ]
    }
   ],
   "source": [
    "# Q.9. Write a code to create the given structure using only for loop.\n",
    "# *\n",
    "# ***\n",
    "# *****\n",
    "# *******\n",
    "# *********\n",
    "# Ans. \n",
    "num_rows = 5\n",
    "\n",
    "for i in range(num_rows):\n",
    "    for j in range(2 * i + 1):\n",
    "        print(\"*\", end=\"\")\n",
    "    print()\n"
   ]
  },
  {
   "cell_type": "code",
   "execution_count": 33,
   "id": "a1c2265a",
   "metadata": {},
   "outputs": [
    {
     "name": "stdout",
     "output_type": "stream",
     "text": [
      "/\n",
      "///\n",
      "/////\n",
      "///////\n",
      "/////////\n"
     ]
    }
   ],
   "source": [
    "# Q.10. Write a code to create the given structure using while loop.\n",
    "# |||||||||\n",
    "# |||||||\n",
    "# |||||\n",
    "# |||\n",
    "# |\n",
    "# Ans. \n",
    "num_rows = 5\n",
    "\n",
    "for i in range(num_rows):\n",
    "    for j in range(2 * i + 1):\n",
    "        print(\"/\", end=\"\")\n",
    "    print()"
   ]
  },
  {
   "cell_type": "code",
   "execution_count": null,
   "id": "87ded5e4",
   "metadata": {},
   "outputs": [],
   "source": []
  }
 ],
 "metadata": {
  "kernelspec": {
   "display_name": "Python 3 (ipykernel)",
   "language": "python",
   "name": "python3"
  },
  "language_info": {
   "codemirror_mode": {
    "name": "ipython",
    "version": 3
   },
   "file_extension": ".py",
   "mimetype": "text/x-python",
   "name": "python",
   "nbconvert_exporter": "python",
   "pygments_lexer": "ipython3",
   "version": "3.10.9"
  }
 },
 "nbformat": 4,
 "nbformat_minor": 5
}
