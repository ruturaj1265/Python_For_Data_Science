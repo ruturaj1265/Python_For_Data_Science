{
 "cells": [
  {
   "cell_type": "code",
   "execution_count": 2,
   "id": "d97801be",
   "metadata": {},
   "outputs": [],
   "source": [
    "# 1. In the below elements which of them are values or an expression? eg:- values can be\n",
    "# integer or string and expressions will be mathematical operators.\n",
    "# *\n",
    "# hello\n",
    "# -87.8\n",
    "# -\n",
    "# /\n",
    "# +\n",
    "# 6\n",
    "\n",
    "# Answer ---> In the above option Values are as follows :-  -87.8, hello, 6\n",
    "#             Expressions are as follows :-  * , - , /, +"
   ]
  },
  {
   "cell_type": "code",
   "execution_count": 4,
   "id": "d72b10b6",
   "metadata": {},
   "outputs": [
    {
     "name": "stdout",
     "output_type": "stream",
     "text": [
      "Tom Fernandes 21\n"
     ]
    }
   ],
   "source": [
    "# 2. What is the difference between string and a variable ?\n",
    "\n",
    "# Ans.---> A string is a data type that represents a sequence of characters.\n",
    "# It is enclosed in either single quotes ('') or double quotes (\"\").\n",
    "# Strings can contain letters, digits and symbols. Here are a few examples of strings:\n",
    "Name = 'Tom'\n",
    "Surname = \"Fernandes\"\n",
    "Age = 21\n",
    "print(Name,Surname,Age)\n",
    "\n",
    "# In above example Name, Surname and Age is Variable that stores the strings or an integer.\n",
    "# i.e Name, Surname and Age is variable and 'Tom', 'Fernandes' and a 21 is a string.\n"
   ]
  },
  {
   "cell_type": "code",
   "execution_count": 7,
   "id": "1e43d66f",
   "metadata": {},
   "outputs": [
    {
     "name": "stdout",
     "output_type": "stream",
     "text": [
      "21\n",
      "Tom\n",
      "['Banana', 'Apple', 'grapes']\n"
     ]
    }
   ],
   "source": [
    "# 3. Describe three different data types.\n",
    "\n",
    "# Ans.---> 1) Integer (int): The integer data type represents whole numbers without any decimal points.\n",
    "#          It can be used to store both positive and negative numbers. For example:\n",
    "number = 21\n",
    "print(number)\n",
    "\n",
    "#  string (str): The string data type represents a sequence of characters enclosed in quotes (either single or double quotes).\n",
    "#   It is used to store textual data. For example:\n",
    "\n",
    "name = 'Tom'\n",
    "print(name)\n",
    "\n",
    "# List (list): The list data type represents an ordered collection of items, which can be of different data types.\n",
    "# Lists are mutable, meaning you can modify their elements. They are defined within square brackets and separated by commas.\n",
    "# For example:\n",
    "fruits = ['Banana', 'Apple', 'grapes']\n",
    "print(fruits)\n",
    "\n",
    "# This three are different data types.\n"
   ]
  },
  {
   "cell_type": "code",
   "execution_count": 9,
   "id": "e875c388",
   "metadata": {},
   "outputs": [],
   "source": [
    "# 4. What is an expression made up of? What do all expressions do?\n",
    "\n",
    "# Ans.---> The components of an expression can include:\n",
    "# The components of an expression can include:\n",
    "# Variables: Symbols that represent values that can change.\n",
    "# Constants: Fixed values, such as numbers or strings.\n",
    "# Operators: Symbols that perform specific operations, such as arithmetic (+, -, *, /), logical (&&, ||, !), or relational (>, <, ==, !=) operations.\n",
    "# The main objective of expressions is to calculate values and taking out correct output from it.\n",
    "# Expression can be use to perform arithmetic or mathematical operation."
   ]
  },
  {
   "cell_type": "code",
   "execution_count": 10,
   "id": "9c23498b",
   "metadata": {},
   "outputs": [],
   "source": [
    "# 5. This assignment statements, like spam = 10. What is the difference between an expression and a statement?\n",
    "# Ans.---> In Python is that expressions always return a value, while statements are complete instructions that perform actions or control the flow of execution.\n",
    "# A statement, is a unit of code that performs an action or controls the flow of execution. \n",
    "# Examples of statements in Python include assignment statements, control flow statements (if, for, while), function definitions, and import statements."
   ]
  },
  {
   "cell_type": "code",
   "execution_count": 13,
   "id": "ed16b341",
   "metadata": {},
   "outputs": [
    {
     "name": "stdout",
     "output_type": "stream",
     "text": [
      "23\n"
     ]
    }
   ],
   "source": [
    "# 6. After running the following code, what does the variable bacon contain?\n",
    "# bacon = 22\n",
    "# bacon + 1\n",
    "# Ans.---> Variable bacon contains value which is integer 22.\n",
    "# The expression bacon + 1 evaluates to 23, but the result of this expression is not assigned to any variable or used in any way.\n",
    "# Therefore, the value of bacon will not change \n",
    "# If we want to update the value of bacon with the result of the expression,\n",
    "# we need to assign it to the bacon variable, as follows :\n",
    "bacon = 22\n",
    "bacon = bacon + 1\n",
    "print(bacon)\n",
    "# This code give us updated value of bacon but if we don't assign expression to the bacon then the value will remains the same \n",
    "# and we will not get the output."
   ]
  },
  {
   "cell_type": "code",
   "execution_count": 18,
   "id": "81ffe36b",
   "metadata": {},
   "outputs": [
    {
     "name": "stdout",
     "output_type": "stream",
     "text": [
      "spamspamspam\n",
      "spamspamspam\n"
     ]
    }
   ],
   "source": [
    "# 7. What should the values of the following two terms be?\n",
    "name = 'spam'+'spamspam' # I have assigned variable name to the spam string because in output it is showing out message on the left hand side.\n",
    "print(name) \n",
    "\n",
    "# and other spam*3 output will come as \"spamspamspam\" Let's run the code.\n",
    "Name = 'spam'*3 # I have assigned variable name to the spam string because in output it is showing out message on the left hand side.\n",
    "print(Name)"
   ]
  },
  {
   "cell_type": "code",
   "execution_count": 22,
   "id": "bbf01f66",
   "metadata": {},
   "outputs": [
    {
     "name": "stdout",
     "output_type": "stream",
     "text": [
      "100\n",
      "100\n"
     ]
    }
   ],
   "source": [
    "# 8. Why is eggs a valid variable name while 100 is invalid?\n",
    "# Ans.---> Because, there are conditions for a variable that,\n",
    "# 1. Variable name must start with 'A-Z' or '_' but should not start with an integer. If we start with integer like 100 then it will give a error.\n",
    "# Let's run the code \n",
    "eggs = 100\n",
    "print(eggs)\n",
    "\n",
    "_123eggs = 100\n",
    "print(_123eggs)\n",
    "\n",
    "# 100 = eggs\n",
    "# print(100)  # This code is giving us error."
   ]
  },
  {
   "cell_type": "code",
   "execution_count": 24,
   "id": "b1842945",
   "metadata": {},
   "outputs": [
    {
     "name": "stdout",
     "output_type": "stream",
     "text": [
      "5\n",
      "3.14\n",
      "21\n"
     ]
    }
   ],
   "source": [
    "# 9. What three functions can be used to get the integer, floating-point number, or string version of a value?\n",
    "# Ans.---> In Python, you can use the following three functions to obtain the integer, floating-point number,\n",
    "# or string version of a value:\n",
    "# 1.int()  , 2. float()  ,  3. str()\n",
    "R = int(5.8)\n",
    "print(R)  # Output: 5\n",
    "\n",
    "x = float(3.14) \n",
    "print(x)    # Output: 3.14\n",
    "\n",
    "z = str(21)  #This function is used to convert a value into its string representation.\n",
    "print(z)     #It takes any value as an argument and returns a string that represents the value."
   ]
  },
  {
   "cell_type": "code",
   "execution_count": 30,
   "id": "a39c515e",
   "metadata": {},
   "outputs": [
    {
     "name": "stdout",
     "output_type": "stream",
     "text": [
      "I have eaten'+99'burritos.\n"
     ]
    }
   ],
   "source": [
    "# 10. Why does this expression cause an error? How can you fix it? 'I have eaten'+99'burritos.'\n",
    "# Ans.--->  \n",
    "name = \"I have eaten'+99'burritos.\"\n",
    "#name = 'I have eaten\"+99\"burritos.'\n",
    "print(name)\n",
    "# We can use single quotes under double quotes but cannot use single quotes under single quotes.\n",
    "# Also cannot use double quotes under double quotes. But we can use double quotes under single quotes."
   ]
  },
  {
   "cell_type": "code",
   "execution_count": null,
   "id": "4fac9280",
   "metadata": {},
   "outputs": [],
   "source": []
  }
 ],
 "metadata": {
  "kernelspec": {
   "display_name": "Python 3 (ipykernel)",
   "language": "python",
   "name": "python3"
  },
  "language_info": {
   "codemirror_mode": {
    "name": "ipython",
    "version": 3
   },
   "file_extension": ".py",
   "mimetype": "text/x-python",
   "name": "python",
   "nbconvert_exporter": "python",
   "pygments_lexer": "ipython3",
   "version": "3.10.9"
  }
 },
 "nbformat": 4,
 "nbformat_minor": 5
}
