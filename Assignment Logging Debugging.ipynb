{
 "cells": [
  {
   "cell_type": "code",
   "execution_count": 4,
   "id": "38f95575",
   "metadata": {},
   "outputs": [
    {
     "name": "stdout",
     "output_type": "stream",
     "text": [
      "The result of 10 / 5 is 2.0\n"
     ]
    }
   ],
   "source": [
    "# Q.1. What is the role of the 'else' block in a try-except statement? Provide an example scenario where it would be useful.\n",
    "#Ans. \n",
    "def divide(a, b):\n",
    "    try:\n",
    "        result = a / b\n",
    "    except ZeroDivisionError:\n",
    "        print(\"Division by zero is not allowed.\")\n",
    "    else:\n",
    "        print(f\"The result of {a} / {b} is {result}\")\n",
    "        \n",
    "divide(10,5)"
   ]
  },
  {
   "cell_type": "code",
   "execution_count": 5,
   "id": "138e671e",
   "metadata": {},
   "outputs": [
    {
     "name": "stdout",
     "output_type": "stream",
     "text": [
      "The result squared is: 100.0\n"
     ]
    }
   ],
   "source": [
    "# 2. Can a try-except block be nested inside another try-except block? Explain with an example.\n",
    "#Ans.\n",
    "def divide_and_square(a, b):\n",
    "    try:\n",
    "        result = a / b\n",
    "    except ZeroDivisionError:\n",
    "        print(\"Division by zero is not allowed.\")\n",
    "    else:\n",
    "        try:\n",
    "            squared_result = result ** 2\n",
    "        except TypeError:\n",
    "            print(f\"TypeError: Cannot square the result, it might not be a number.\")\n",
    "        else:\n",
    "            print(f\"The result squared is: {squared_result}\")\n",
    "            \n",
    "divide_and_square(20,2)"
   ]
  },
  {
   "cell_type": "code",
   "execution_count": 6,
   "id": "48cb86f7",
   "metadata": {},
   "outputs": [
    {
     "name": "stdout",
     "output_type": "stream",
     "text": [
      "Custom Error: Division by zero is not allowed.\n"
     ]
    }
   ],
   "source": [
    "# 3. How can you create a custom exception class in Python? Provide an example that demonstrates its usage.\n",
    "class CustomError(Exception):\n",
    "    def __init__(self, message):\n",
    "        super().__init__(message)\n",
    "\n",
    "def divide(a, b):\n",
    "    if b == 0:\n",
    "        raise CustomError(\"Division by zero is not allowed.\")\n",
    "    return a / b\n",
    "\n",
    "try:\n",
    "    result = divide(10, 0)\n",
    "except CustomError as ce:\n",
    "    print(f\"Custom Error: {ce}\")\n",
    "else:\n",
    "    print(f\"The result is: {result}\")"
   ]
  },
  {
   "cell_type": "code",
   "execution_count": null,
   "id": "c2d5f554",
   "metadata": {},
   "outputs": [],
   "source": [
    "# 4. What are some common exceptions that are built-in to Python?\n",
    "# Ans.\n",
    "'''\n",
    "1) SyntaxError: Raised when there is a syntax error in the Python code.\n",
    "\n",
    "2) IndentationError: Raised when there is an indentation error in the code, such as inconsistent use of tabs and spaces.\n",
    "\n",
    "3) NameError: Raised when an undefined variable or name is referenced.\n",
    "\n",
    "4) TypeError: Raised when an operation or function is applied to an object of inappropriate type.\n",
    "\n",
    "5) ValueError: Raised when an operation or function receives an argument of the correct type but an inappropriate value.\n",
    "\n",
    "6) ZeroDivisionError: Raised when division or modulo operation is performed with zero as the divisor.\n",
    "\n",
    "7) FileNotFoundError: Raised when an attempt to open or manipulate a file that does not exist is made.\n",
    "\n",
    "8) IOError: Raised for various I/O-related issues, such as file not found, file already exists, and permission errors.\n",
    "\n",
    "9) IndexError: Raised when trying to access an index that is out of range in a sequence (e.g., list, tuple, string).\n",
    "\n",
    "10) KeyError: Raised when trying to access a dictionary key that does not exist.\n",
    "\n",
    "11) AttributeError: Raised when trying to access or use an attribute or method that does not exist for an object.\n",
    "\n",
    "12) ImportError: Raised when an import statement fails to import a module.\n",
    "\n",
    "13) ModuleNotFoundError: Raised when an import statement fails to find the specified module.\n",
    "\n",
    "14) RuntimeError: A generic error that can be raised in various situations when there is an error that doesn't fit into other specific exception categories.\n",
    "\n",
    "15) OverflowError and MemoryError: Raised when mathematical operations result in overflow or when the system runs out of memory, respectively.\n",
    "\n",
    "16) KeyboardInterrupt: Raised when the user interrupts the program's execution (typically by pressing Ctrl+C).\n",
    "'''"
   ]
  },
  {
   "cell_type": "code",
   "execution_count": 7,
   "id": "c058f064",
   "metadata": {},
   "outputs": [],
   "source": [
    "# 5. What is logging in Python, and why is it important in software development?\n",
    "#Ans. In Python, the logging module provides a robust and configurable logging framework.\n",
    "# It allows you to define log levels (e.g., DEBUG, INFO, WARNING, ERROR, CRITICAL), control the output destination (e.g., console, files, remote servers),\n",
    "# and format log messages according to your needs. Properly implemented logging can significantly improve the maintainability, stability, and security of your software,\n",
    "# making it a critical tool in the software development process."
   ]
  },
  {
   "cell_type": "code",
   "execution_count": 12,
   "id": "7741a4f5",
   "metadata": {},
   "outputs": [
    {
     "name": "stderr",
     "output_type": "stream",
     "text": [
      "WARNING:root:Low disk space detected. Consider freeing up space.\n",
      "CRITICAL:root:Critical error: System shutting down.\n"
     ]
    }
   ],
   "source": [
    "# 6. Explain the purpose of log levels in Python logging and provide examples of when each log level would be appropriate.\n",
    "#Ans. \n",
    "import logging\n",
    "logging.debug(\"This is a debug message. Useful for development.\")\n",
    "\n",
    "import logging\n",
    "logging.info(\"Application started successfully.\")\n",
    "\n",
    "import logging\n",
    "logging.warning(\"Low disk space detected. Consider freeing up space.\")\n",
    "\n",
    "import logging\n",
    "try:\n",
    "    a = 10\n",
    "    b = 2\n",
    "    result = a / b\n",
    "except Exception as e:\n",
    "    logging.error(f\"An error occurred: {e}\")\n",
    "\n",
    "import logging\n",
    "logging.critical(\"Critical error: System shutting down.\")"
   ]
  },
  {
   "cell_type": "code",
   "execution_count": 13,
   "id": "4b59518b",
   "metadata": {},
   "outputs": [],
   "source": [
    "# 7. What are log formatters in Python logging, and how can you customise the log message format using formatters?\n",
    "#Ans. \n",
    "# By customizing log message formatting using formatters, you can tailor the appearance and content of log entries to suit your needs.\n",
    "# This flexibility is particularly useful when you want to integrate logs from multiple sources or when you need to adhere to specific log message formats for log analysis tools or compliance requirements."
   ]
  },
  {
   "cell_type": "code",
   "execution_count": 14,
   "id": "8d76e14a",
   "metadata": {},
   "outputs": [],
   "source": [
    "# 8. How can you set up logging to capture log messages from multiple modules or classes in a Python application?\n",
    "#Ans. 1) Import the logging Module: Start by importing the logging module in your Python code.\n",
    "# 2) Create and Configure Loggers: For each module or class that you want to capture log messages from, create a logger instance using logging.getLogger(name). The name parameter is usually set to the module or class name.\n",
    "# 3) Configure Log Handlers: For each logger, configure one or more log handlers to specify where the log messages should be directed. Handlers can be configured to log to the console, files, or other destinations.\n",
    "# 4) Set Log Levels: Set the log level for each logger using the setLevel method. This allows you to control the verbosity of the log messages for each module or class.\n",
    "# 5) Create and Set a Formatter: Create a log formatter using logging.Formatter and set it for each handler. This step allows you to customize the format of the log messages.\n",
    "# 6) Log Messages: Finally, in each module or class, use the appropriate logger instance (logger1, logger2, etc.) to log messages at different log levels."
   ]
  },
  {
   "cell_type": "code",
   "execution_count": 15,
   "id": "f0a287b1",
   "metadata": {},
   "outputs": [],
   "source": [
    "# 9. What is the difference between the logging and print statements in Python? When should you use logging over print statements in a real-world application?\n",
    "# Ans. While print statements are suitable for simple output during development, logging is the recommended approach for capturing and managing logs in real-world applications, as it offers greater control, features, and scalability for maintaining and troubleshooting your software."
   ]
  },
  {
   "cell_type": "code",
   "execution_count": 16,
   "id": "7ea408f9",
   "metadata": {},
   "outputs": [
    {
     "name": "stderr",
     "output_type": "stream",
     "text": [
      "INFO:__main__:Hello, World!\n"
     ]
    }
   ],
   "source": [
    "# 10. Write a Python program that logs a message to a file named \"app.log\" with the following requirements:\n",
    "# ● The log message should be \"Hello, World!\"\n",
    "# ● The log level should be set to \"INFO.\"\n",
    "# ● The log file should append new log entries without overwriting previous ones.\n",
    "#Ans. \n",
    "import logging\n",
    "\n",
    "# Configure the logger\n",
    "logger = logging.getLogger(__name__)\n",
    "logger.setLevel(logging.INFO)\n",
    "\n",
    "# Create a file handler that appends log entries to \"app.log\"\n",
    "file_handler = logging.FileHandler(\"app.log\")\n",
    "file_handler.setLevel(logging.INFO)\n",
    "\n",
    "# Create a formatter\n",
    "formatter = logging.Formatter(\"%(asctime)s - %(levelname)s - %(message)s\")\n",
    "file_handler.setFormatter(formatter)\n",
    "\n",
    "# Add the file handler to the logger\n",
    "logger.addHandler(file_handler)\n",
    "\n",
    "# Log the message\n",
    "logger.info(\"Hello, World!\")\n",
    "\n",
    "# Close the file handler to ensure log entries are flushed to the file\n",
    "file_handler.close()"
   ]
  },
  {
   "cell_type": "code",
   "execution_count": 17,
   "id": "189b1231",
   "metadata": {},
   "outputs": [
    {
     "name": "stderr",
     "output_type": "stream",
     "text": [
      "2023-09-14 10:22:44,451 - ERROR - Exception type: ZeroDivisionError, Timestamp: 2023-09-14 10:22:44.451893\n",
      "Traceback (most recent call last):\n",
      "  File \"C:\\Users\\Ruturaj Chavan\\AppData\\Local\\Temp\\ipykernel_21972\\2609689895.py\", line 28, in <module>\n",
      "    result = 10 / 0  # This will raise a ZeroDivisionError\n",
      "ZeroDivisionError: division by zero\n",
      "ERROR:__main__:Exception type: ZeroDivisionError, Timestamp: 2023-09-14 10:22:44.451893\n",
      "Traceback (most recent call last):\n",
      "  File \"C:\\Users\\Ruturaj Chavan\\AppData\\Local\\Temp\\ipykernel_21972\\2609689895.py\", line 28, in <module>\n",
      "    result = 10 / 0  # This will raise a ZeroDivisionError\n",
      "ZeroDivisionError: division by zero\n"
     ]
    }
   ],
   "source": [
    "# 11. Create a Python program that logs an error message to the console and a file named\n",
    "# \"errors.log\" if an exception occurs during the program's execution. The error\n",
    "# message should include the exception type and a timestamp.\n",
    "#Ans. \n",
    "import logging\n",
    "import datetime\n",
    "\n",
    "logger = logging.getLogger(__name__)\n",
    "logger.setLevel(logging.ERROR)\n",
    "\n",
    "# Create a console handler\n",
    "console_handler = logging.StreamHandler()\n",
    "console_handler.setLevel(logging.ERROR)\n",
    "\n",
    "file_handler = logging.FileHandler(\"errors.log\")\n",
    "file_handler.setLevel(logging.ERROR)\n",
    "\n",
    "formatter = logging.Formatter(\"%(asctime)s - %(levelname)s - %(message)s\")\n",
    "\n",
    "console_handler.setFormatter(formatter)\n",
    "file_handler.setFormatter(formatter)\n",
    "\n",
    "logger.addHandler(console_handler)\n",
    "logger.addHandler(file_handler)\n",
    "\n",
    "try:\n",
    "    # Code that may raise an exception\n",
    "    result = 10 / 0  # This will raise a ZeroDivisionError\n",
    "except Exception as e:\n",
    "    # Log the exception along with a timestamp\n",
    "    error_message = f\"Exception type: {type(e).__name__}, Timestamp: {datetime.datetime.now()}\"\n",
    "    logger.error(error_message, exc_info=True)\n",
    "\n",
    "# Close the file handler to ensure log entries are flushed to the file\n",
    "file_handler.close()\n"
   ]
  },
  {
   "cell_type": "code",
   "execution_count": null,
   "id": "d9b26526",
   "metadata": {},
   "outputs": [],
   "source": []
  }
 ],
 "metadata": {
  "kernelspec": {
   "display_name": "Python 3 (ipykernel)",
   "language": "python",
   "name": "python3"
  },
  "language_info": {
   "codemirror_mode": {
    "name": "ipython",
    "version": 3
   },
   "file_extension": ".py",
   "mimetype": "text/x-python",
   "name": "python",
   "nbconvert_exporter": "python",
   "pygments_lexer": "ipython3",
   "version": "3.10.9"
  }
 },
 "nbformat": 4,
 "nbformat_minor": 5
}
