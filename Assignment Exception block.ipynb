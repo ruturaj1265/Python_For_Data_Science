{
 "cells": [
  {
   "cell_type": "code",
   "execution_count": 1,
   "id": "69c66475",
   "metadata": {},
   "outputs": [],
   "source": [
    "## Q.01 What is the role of try and exception block?\n",
    "# Ans. The try block lets you test a block of code for errors.\n",
    "# The except block lets you handle the error. The else block lets you execute code when there is no error."
   ]
  },
  {
   "cell_type": "code",
   "execution_count": 2,
   "id": "5de249b2",
   "metadata": {},
   "outputs": [
    {
     "name": "stdout",
     "output_type": "stream",
     "text": [
      "Enter the first number: 5\n",
      "Enter the second number: 5\n",
      "1.0\n"
     ]
    }
   ],
   "source": [
    "# Q.02 2. What is the syntax for a basic try-except block?\n",
    "# Ans.\n",
    "a = int(input(\"Enter the first number: \"))\n",
    "b = int(input(\"Enter the second number: \"))\n",
    "try:\n",
    "    c = a/b\n",
    "    print(c)\n",
    "except:\n",
    "    print(\"b should not be a zero\")"
   ]
  },
  {
   "cell_type": "code",
   "execution_count": 3,
   "id": "a1828459",
   "metadata": {},
   "outputs": [],
   "source": [
    "#Q.03 What happens if an exception occurs inside a try block and there is no matching except block?\n",
    "#Ans.\n",
    "# If any exception occurs, the try clause will be skipped and except clause will run.\n",
    "# If any exception occurs, but the except clause within the code doesn't handle it, it is passed on to the outer try statements. If the exception is left unhandled, then the execution stops."
   ]
  },
  {
   "cell_type": "code",
   "execution_count": 4,
   "id": "f25f0cae",
   "metadata": {},
   "outputs": [],
   "source": [
    "#Q.04 What is the difference between using a bare except block and specifying a specific exception type?\n",
    "#Ans.A bare except: clause will catch SystemExit and KeyboardInterrupt exceptions, making it harder to interrupt a program with Control-C, and can disguise other problems.\n",
    "# By not specifiycing an exception type, you might also loose information about the error itself."
   ]
  },
  {
   "cell_type": "code",
   "execution_count": 5,
   "id": "4b6bf2bd",
   "metadata": {},
   "outputs": [
    {
     "name": "stdout",
     "output_type": "stream",
     "text": [
      "Enter a dividend: 10\n",
      "Enter a divisor: 5\n",
      "Result of division: 2.0\n"
     ]
    }
   ],
   "source": [
    "#Q.5 Can you have nested try-except blocks in Python? If yes, then give an example.\n",
    "# Ans\n",
    "try:\n",
    "    # Outer try block\n",
    "    num1 = int(input(\"Enter a dividend: \"))\n",
    "    num2 = int(input(\"Enter a divisor: \"))\n",
    "    \n",
    "    try:\n",
    "        # Inner try block\n",
    "        result = num1 / num2\n",
    "    except ZeroDivisionError:\n",
    "        print(\"Error: Division by zero in the inner try block.\")\n",
    "    except ValueError:\n",
    "        print(\"Error: Invalid input in the inner try block.\")\n",
    "    else:\n",
    "        print(f\"Result of division: {result}\")\n",
    "        \n",
    "except ZeroDivisionError:\n",
    "    print(\"Error: Division by zero in the outer try block.\")\n",
    "except ValueError:\n",
    "    print(\"Error: Invalid input in the outer try block.\")"
   ]
  },
  {
   "cell_type": "code",
   "execution_count": 6,
   "id": "b0879015",
   "metadata": {},
   "outputs": [
    {
     "name": "stdout",
     "output_type": "stream",
     "text": [
      "Enter a dividend: 5\n",
      "Enter a divisor: 0\n",
      "Error: Division by zero.\n"
     ]
    }
   ],
   "source": [
    "#Q.6.Can we use multiple exception blocks, if yes then give an example.\n",
    "#Ans. \n",
    "try:\n",
    "    num1 = int(input(\"Enter a dividend: \"))\n",
    "    num2 = int(input(\"Enter a divisor: \"))\n",
    "    result = num1 / num2\n",
    "\n",
    "except ZeroDivisionError:\n",
    "    print(\"Error: Division by zero.\")\n",
    "except ValueError:\n",
    "    print(\"Error: Invalid input. Please enter a valid number.\")\n",
    "except KeyboardInterrupt:\n",
    "    print(\"Operation aborted by the user.\")\n",
    "except Exception as e:\n",
    "    print(f\"An unexpected error occurred: {e}\")\n",
    "\n",
    "else:\n",
    "    print(f\"Result of division: {result}\")"
   ]
  },
  {
   "cell_type": "code",
   "execution_count": 7,
   "id": "22ca74cb",
   "metadata": {},
   "outputs": [
    {
     "data": {
      "text/plain": [
       "'\\na) EOF stands for \"End of File.\"\\nThis error is raised when an input operation reaches the end of a file and there\\'s no more data to read.\\nIt typically occurs when attempting to read from a file or input stream, and there\\'s no more content to read.\\n\\nb) FloatingPointError:\\nThis error occurs when there\\'s an issue with floating-point arithmetic.\\nIt can be raised due to various reasons, such as dividing by zero or performing an invalid mathematical operation on floating-point numbers.\\n\\nc) IndexError:\\nThis error is raised when you try to access an index that is out of range in a sequence (e.g., a list or a string).\\nIn Python, indexing starts from 0, so attempting to access an index that is less than 0 or greater than or equal to the length of the sequence will result in this error.\\n\\nd) MemoryError:\\nThis error occurs when the Python program runs out of memory (RAM) while trying to allocate more memory for data or objects.\\nIt typically happens when the system doesn\\'t have enough memory to fulfill a memory allocation request.\\n\\ne) OverflowError:\\nAn OverflowError is raised when a mathematical operation or computation results in a numeric value that is too large (i.e., it overflows) to be represented within the limits of the data type being used. This typically occurs in languages like Python when performing arithmetic operations with integers or floating-point numbers that exceed the maximum or minimum representable values for that data type. For example, in Python, trying to calculate a factorial of a very large number may lead to an OverflowError because the result is too large to be stored in memory.\\n\\nf) TabError:\\nA TabError is raised in Python when there are inconsistencies in the use of tabs and spaces for indentation within a block of code. Python is a whitespace-sensitive language, and it requires consistent use of either tabs or spaces for indentation throughout a script or program. Mixing tabs and spaces in the same code block or not aligning them properly can lead to a TabError. For instance, if you use tabs for indentation in one part of your code and then switch to spaces in another part within the same block, Python will raise a TabError to signal this inconsistency.\\n\\ng) ValueError:\\nA ValueError is raised when a function or operation receives an argument of the correct data type but with an inappropriate or invalid value. In other words, the input value is not within the expected or valid range for the operation or function. For example, if you try to convert a string to an integer in Python using the int() function, and the string doesn\\'t represent a valid integer (e.g., \"abc\" instead of \"123\"), a ValueError will be raised. Similarly, attempting to access an element in a list with an index that is out of the list\\'s bounds can also result in a ValueError.\\n'"
      ]
     },
     "execution_count": 7,
     "metadata": {},
     "output_type": "execute_result"
    }
   ],
   "source": [
    "#Q7.Write the reason due to which following errors are raised:\n",
    "#a. EOFError\n",
    "#b. FloatingPointError\n",
    "#c. IndexError\n",
    "#d. MemoryError\n",
    "#e. OverflowError\n",
    "#f. TabError\n",
    "#g. ValueError\n",
    "#Ans.\n",
    "'''\n",
    "a) EOF stands for \"End of File.\"\n",
    "This error is raised when an input operation reaches the end of a file and there's no more data to read.\n",
    "It typically occurs when attempting to read from a file or input stream, and there's no more content to read.\n",
    "\n",
    "b) FloatingPointError:\n",
    "This error occurs when there's an issue with floating-point arithmetic.\n",
    "It can be raised due to various reasons, such as dividing by zero or performing an invalid mathematical operation on floating-point numbers.\n",
    "\n",
    "c) IndexError:\n",
    "This error is raised when you try to access an index that is out of range in a sequence (e.g., a list or a string).\n",
    "In Python, indexing starts from 0, so attempting to access an index that is less than 0 or greater than or equal to the length of the sequence will result in this error.\n",
    "\n",
    "d) MemoryError:\n",
    "This error occurs when the Python program runs out of memory (RAM) while trying to allocate more memory for data or objects.\n",
    "It typically happens when the system doesn't have enough memory to fulfill a memory allocation request.\n",
    "\n",
    "e) OverflowError:\n",
    "An OverflowError is raised when a mathematical operation or computation results in a numeric value that is too large (i.e., it overflows) to be represented within the limits of the data type being used. This typically occurs in languages like Python when performing arithmetic operations with integers or floating-point numbers that exceed the maximum or minimum representable values for that data type. For example, in Python, trying to calculate a factorial of a very large number may lead to an OverflowError because the result is too large to be stored in memory.\n",
    "\n",
    "f) TabError:\n",
    "A TabError is raised in Python when there are inconsistencies in the use of tabs and spaces for indentation within a block of code. Python is a whitespace-sensitive language, and it requires consistent use of either tabs or spaces for indentation throughout a script or program. Mixing tabs and spaces in the same code block or not aligning them properly can lead to a TabError. For instance, if you use tabs for indentation in one part of your code and then switch to spaces in another part within the same block, Python will raise a TabError to signal this inconsistency.\n",
    "\n",
    "g) ValueError:\n",
    "A ValueError is raised when a function or operation receives an argument of the correct data type but with an inappropriate or invalid value. In other words, the input value is not within the expected or valid range for the operation or function. For example, if you try to convert a string to an integer in Python using the int() function, and the string doesn't represent a valid integer (e.g., \"abc\" instead of \"123\"), a ValueError will be raised. Similarly, attempting to access an element in a list with an index that is out of the list's bounds can also result in a ValueError.\n",
    "'''"
   ]
  },
  {
   "cell_type": "code",
   "execution_count": 8,
   "id": "af1e92e6",
   "metadata": {},
   "outputs": [
    {
     "name": "stdout",
     "output_type": "stream",
     "text": [
      "Enter the numerator: 10\n",
      "Enter the denominator: 5\n",
      "Result of division: 2.0\n"
     ]
    }
   ],
   "source": [
    "# Q.8 8. Write code for the following given scenario and add try-exception block to it.\n",
    "# a. Program to divide two numbers\n",
    "# b. Program to convert a string to an integer\n",
    "# c. Program to access an element in a list\n",
    "# d. Program to handle a specific exception\n",
    "# e. Program to handle any exception\n",
    "try:\n",
    "    num1 = float(input(\"Enter the numerator: \"))\n",
    "    num2 = float(input(\"Enter the denominator: \"))\n",
    "    result = num1 / num2\n",
    "    print(\"Result of division:\", result)\n",
    "except ZeroDivisionError:\n",
    "    print(\"Error: Division by zero is not allowed.\")\n",
    "except ValueError:\n",
    "    print(\"Error: Invalid input. Please enter valid numeric values.\")\n",
    "except Exception as e:\n",
    "    print(\"An unexpected error occurred:\", e)"
   ]
  },
  {
   "cell_type": "code",
   "execution_count": 9,
   "id": "8927e3b7",
   "metadata": {},
   "outputs": [
    {
     "name": "stdout",
     "output_type": "stream",
     "text": [
      "Enter a number as a string: 222\n",
      "Converted integer: 222\n"
     ]
    }
   ],
   "source": [
    "try:\n",
    "    string_num = input(\"Enter a number as a string: \")\n",
    "    integer_num = int(string_num)\n",
    "    print(\"Converted integer:\", integer_num)\n",
    "except ValueError:\n",
    "    print(\"Error: Unable to convert the string to an integer.\")\n",
    "except Exception as e:\n",
    "    print(\"An unexpected error occurred:\", e)"
   ]
  },
  {
   "cell_type": "code",
   "execution_count": 12,
   "id": "d01f7806",
   "metadata": {},
   "outputs": [
    {
     "name": "stdout",
     "output_type": "stream",
     "text": [
      "Enter an index to access: 0\n",
      "Value at index 0 is: 1\n"
     ]
    }
   ],
   "source": [
    "try:\n",
    "    my_list = [1, 2, 3, 4, 5]\n",
    "    index = int(input(\"Enter an index to access: \"))\n",
    "    value = my_list[index]\n",
    "    print(\"Value at index\", index, \"is:\", value)\n",
    "except IndexError:\n",
    "    print(\"Error: Index is out of range.\")\n",
    "except ValueError:\n",
    "    print(\"Error: Please enter a valid integer index.\")\n",
    "except Exception as e:\n",
    "    print(\"An unexpected error occurred:\", e)"
   ]
  },
  {
   "cell_type": "code",
   "execution_count": 13,
   "id": "df67fe5b",
   "metadata": {},
   "outputs": [
    {
     "name": "stdout",
     "output_type": "stream",
     "text": [
      "Error: File 'nonexistent_file.txt' not found.\n"
     ]
    }
   ],
   "source": [
    "try:\n",
    "    file_name = \"nonexistent_file.txt\"\n",
    "    with open(file_name, \"r\") as file:\n",
    "        content = file.read()\n",
    "    print(\"File content:\", content)\n",
    "except FileNotFoundError:\n",
    "    print(f\"Error: File '{file_name}' not found.\")\n",
    "except Exception as e:\n",
    "    print(\"An unexpected error occurred:\", e)"
   ]
  },
  {
   "cell_type": "code",
   "execution_count": 14,
   "id": "7d43fb29",
   "metadata": {},
   "outputs": [
    {
     "name": "stdout",
     "output_type": "stream",
     "text": [
      "An unexpected error occurred: division by zero\n"
     ]
    }
   ],
   "source": [
    "try:\n",
    "    result = 10 / 0  # Example of a division by zero error\n",
    "except Exception as e:\n",
    "    print(\"An unexpected error occurred:\", e)"
   ]
  },
  {
   "cell_type": "code",
   "execution_count": null,
   "id": "0635ae6b",
   "metadata": {},
   "outputs": [],
   "source": []
  }
 ],
 "metadata": {
  "kernelspec": {
   "display_name": "Python 3 (ipykernel)",
   "language": "python",
   "name": "python3"
  },
  "language_info": {
   "codemirror_mode": {
    "name": "ipython",
    "version": 3
   },
   "file_extension": ".py",
   "mimetype": "text/x-python",
   "name": "python",
   "nbconvert_exporter": "python",
   "pygments_lexer": "ipython3",
   "version": "3.10.9"
  }
 },
 "nbformat": 4,
 "nbformat_minor": 5
}
