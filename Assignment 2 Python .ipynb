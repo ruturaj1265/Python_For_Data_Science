{
 "cells": [
  {
   "cell_type": "code",
   "execution_count": 1,
   "id": "4bd89ba6",
   "metadata": {},
   "outputs": [
    {
     "name": "stdout",
     "output_type": "stream",
     "text": [
      "True\n",
      "False\n"
     ]
    }
   ],
   "source": [
    "# 1.What are the two values of the Boolean data type? How do you write them?\n",
    "# Ans. The Boolean data type represents two values: True and False. These values are written as capitalized keywords:\n",
    "# True and False. Example of boolean values are as follows:-\n",
    "x = True\n",
    "y = False \n",
    "print(x)\n",
    "print(y)"
   ]
  },
  {
   "cell_type": "code",
   "execution_count": 6,
   "id": "57e710f8",
   "metadata": {},
   "outputs": [
    {
     "name": "stdout",
     "output_type": "stream",
     "text": [
      "False\n",
      "True\n",
      "False\n"
     ]
    }
   ],
   "source": [
    "# 2. What are the three different types of Boolean operators?\n",
    "# Ans. Three different types of boolean operators are as follows:\n",
    "# and operator : and operator returns True if both the values are True otherwise it returns False.\n",
    "x = True\n",
    "y = False\n",
    "print(x and y)\n",
    "\n",
    "# OR operator :\n",
    "# It returns True if atleast one of the values are True. i.e one of the operands are same. Otherwise it returns False.\n",
    "\n",
    "x = True\n",
    "y = False \n",
    "print(x or y)\n",
    "\n",
    "# NOT Operator:\n",
    "# The logical NOT operator returns the opposite of the operand's value.\n",
    "# If the operand is True, it returns False, and if the operand is False, it returns True.\n",
    "x = True\n",
    "print(not x)"
   ]
  },
  {
   "cell_type": "code",
   "execution_count": 13,
   "id": "a2164f36",
   "metadata": {},
   "outputs": [
    {
     "name": "stdout",
     "output_type": "stream",
     "text": [
      "False\n",
      "False\n",
      "True\n",
      "False\n",
      "False\n",
      "True\n"
     ]
    }
   ],
   "source": [
    "# 4. What are the values of the following expressions?\n",
    "# Ans. \n",
    "x = 5 > 4\n",
    "y = 3 == 5\n",
    "z = (5 > 4) and (3 == 5)\n",
    "print(z)\n",
    "print(not 5>4)\n",
    "print(5>4 or 3==5)\n",
    "R = (True and True) and (True == False)\n",
    "print(R)\n",
    "\n",
    "print(not((5 > 4) or (3 == 5)))\n",
    "print((not False) or (not True))"
   ]
  },
  {
   "cell_type": "code",
   "execution_count": 17,
   "id": "e90f2d1d",
   "metadata": {},
   "outputs": [
    {
     "name": "stdout",
     "output_type": "stream",
     "text": [
      "False\n",
      "True\n",
      "True\n",
      "False\n",
      "True\n",
      "False\n"
     ]
    }
   ],
   "source": [
    "# 5. What are the six comparison operators?\n",
    "# Ans. Equal to (==): Checks if two values are equal and returns True if they are, and False otherwise.\n",
    "x = 5\n",
    "y = 3\n",
    "print(x == y)\n",
    "print(x != y)\n",
    "print(x > y)\n",
    "print(x < y)\n",
    "print(x >= y)\n",
    "print(x <= y)"
   ]
  },
  {
   "cell_type": "code",
   "execution_count": 21,
   "id": "9b937068",
   "metadata": {},
   "outputs": [
    {
     "name": "stdout",
     "output_type": "stream",
     "text": [
      "True\n",
      "5\n",
      "Enter your name: Ruturaj\n",
      "Congratulations, you are allowed to enter\n"
     ]
    }
   ],
   "source": [
    "# 6. How do you tell the difference between the equal to and assignment operators?Describe a\n",
    "# condition and when you would use one.\n",
    "# Ans. Equal to operator (\" == \") use to check whether to values are same or not if it is same it returns \"True\" if it is not same\n",
    "# It returns \"False\".\n",
    "x = 5\n",
    "y = 5\n",
    "print(x == y) # Output will be True because both the values are equal.\n",
    "\n",
    "# Assignment operator \" = \" use to assign a value to the variable. It assigns a value on the right hand side of the variable which is on \n",
    "# left hand side.\n",
    "x = 5\n",
    "print(x) # In this example \" = \" sign assign value 5 to the variable \"x\" Output will be 5.\n",
    "\n",
    "# To differentiate between the equal to operator and the assignment operator, consider the context and the presence of variables.\n",
    "# The equal to operator is used in comparison expressions, whereas the assignment operator is used to assign a value to a variable.\n",
    "# Following is the example of \" == \" operator where condition is there :\n",
    "\n",
    "x = input(\"Enter your name: \")    # Here \" = \" assign a input to the variable x.\n",
    "if x == \"Ruturaj\":\n",
    "    print(\"Congratulations, you are allowed to enter\")\n",
    "else:\n",
    "    print(\"You are not allowed to enter\")"
   ]
  },
  {
   "cell_type": "code",
   "execution_count": 24,
   "id": "b1285aba",
   "metadata": {},
   "outputs": [
    {
     "name": "stdout",
     "output_type": "stream",
     "text": [
      "ham\n",
      "spam\n",
      "spam\n"
     ]
    }
   ],
   "source": [
    "# 7. Identify the three blocks in this code:\n",
    "spam = 0\n",
    "if spam == 10:\n",
    "    print(\"eggs\")\n",
    "if spam > 5:\n",
    "    print(\"bacon\")\n",
    "else:\n",
    "    print(\"ham\")\n",
    "    print(\"spam\")\n",
    "    print(\"spam\")\n",
    "    \n",
    "# Three blocks in this code is : 1) if spam == 10:\n",
    "#                                        print(\"eggs\")\n",
    "# 2) second block in this code is if spam > 5:\n",
    "#                                   print(\"bacon\")\n",
    "\n",
    "# 3) Third block in this code is : \n",
    "# print(\"ham\")\n",
    "# print(\"spam\")\n",
    "# print(\"spam\")"
   ]
  },
  {
   "cell_type": "code",
   "execution_count": 33,
   "id": "c84fcaee",
   "metadata": {},
   "outputs": [
    {
     "name": "stdout",
     "output_type": "stream",
     "text": [
      "Enter number: 2\n",
      "Howdy\n"
     ]
    }
   ],
   "source": [
    "# 8. Write code that prints Hello if 1 is stored in spam, prints Howdy if 2 is stored in spam, and prints\n",
    "# Greetings! if anything else is stored in spam.\n",
    "# Ans. Here is the code :\n",
    "\n",
    "spam = int(input(f\"Enter number: \"))\n",
    "if spam == 1:\n",
    "    print(\"Hello\")\n",
    "elif spam == 2:\n",
    "    print(\"Howdy\")\n",
    "else:\n",
    "    print(\"Greetings!\")"
   ]
  },
  {
   "cell_type": "code",
   "execution_count": 34,
   "id": "12b1b259",
   "metadata": {},
   "outputs": [],
   "source": [
    "# 9.If your programme is stuck in an endless loop, what keys you’ll press?\n",
    "# Ans. If your programme is stuck in endless loop  then you should press \"ctrl\"+\"C\" Key. To send an inturrupt signal to the programme.\n",
    "# This will stop the endless loop."
   ]
  },
  {
   "cell_type": "code",
   "execution_count": 45,
   "id": "ddfb7956",
   "metadata": {},
   "outputs": [
    {
     "name": "stdout",
     "output_type": "stream",
     "text": [
      "1\n",
      "2\n",
      "1\n",
      "3\n",
      "4\n",
      "5\n"
     ]
    }
   ],
   "source": [
    "# 10. How can you tell the difference between break and continue?\n",
    "# Ans. \"break\" and \"continue\" statements are used to alter the flow of control within loops such as for and while loops.\n",
    "# The break statement is use to alter the given number the example is as follows :\n",
    "\n",
    "for i in range(1,6):\n",
    "    if i == 3:\n",
    "        break\n",
    "    print(i)\n",
    "    \n",
    "# \"Continue\" statement is use to alter the given number and continue remaining series.\n",
    "\n",
    "for i in range(1,6):\n",
    "    if i == 2:\n",
    "        continue\n",
    "    print(i)"
   ]
  },
  {
   "cell_type": "code",
   "execution_count": 53,
   "id": "08407a76",
   "metadata": {},
   "outputs": [
    {
     "name": "stdout",
     "output_type": "stream",
     "text": [
      "0\n",
      "1\n",
      "2\n",
      "3\n",
      "4\n",
      "5\n",
      "6\n",
      "7\n",
      "8\n",
      "9\n",
      "0\n",
      "1\n",
      "2\n",
      "3\n",
      "4\n",
      "5\n",
      "6\n",
      "7\n",
      "8\n",
      "9\n",
      "0\n",
      "1\n",
      "2\n",
      "3\n",
      "4\n",
      "5\n",
      "6\n",
      "7\n",
      "8\n",
      "9\n"
     ]
    }
   ],
   "source": [
    "# 11. In a for loop, what is the difference between range(10), range(0, 10), and range(0, 10, 1)?\n",
    "# Ans. range(10): This expression generates a sequence of numbers starting from 0 (inclusive) and ending at 10 (exclusive) with a default step of 1.\n",
    "# It starts from 0 and increments by 1 with each iteration.\n",
    "for i in range(10):\n",
    "    print(i)\n",
    "\n",
    "#range(0,10): This expression is defined with a starting value 0 and an ending value of 10 (exclusive), again with default step of 1.\n",
    "# It generates a sequence of numbers starting from the specified starting value and ending at the specified end value (exclusive).\n",
    "for i in range(0,10):\n",
    "    print(i)\n",
    "\n",
    "# range(0,10,1): This expression is defined with starting value of 0 and an ending value of 10 (exclusive), With a default step of 1.\n",
    "# It generates a sequence of numbers starting from the specified start value and ending at the specified end value (exclusive).\n",
    "for i in range(0,10,1):\n",
    "    print(i)"
   ]
  },
  {
   "cell_type": "code",
   "execution_count": 59,
   "id": "fe85134a",
   "metadata": {},
   "outputs": [
    {
     "name": "stdout",
     "output_type": "stream",
     "text": [
      "1\n",
      "2\n",
      "3\n",
      "4\n",
      "5\n",
      "6\n",
      "7\n",
      "8\n",
      "9\n",
      "10\n",
      "1\n",
      "2\n",
      "3\n",
      "4\n",
      "5\n",
      "6\n",
      "7\n",
      "8\n",
      "9\n",
      "10\n"
     ]
    }
   ],
   "source": [
    "# 12. Write a short program that prints the numbers 1 to 10 using a for loop. Then write an equivalent\n",
    "# program that prints the numbers 1 to 10 using a while loop.\n",
    "for i in range(1,11):\n",
    "    print(i)\n",
    "    \n",
    "count = 1\n",
    "while count <= 10:\n",
    "    print(count)\n",
    "    count += 1"
   ]
  },
  {
   "cell_type": "code",
   "execution_count": 65,
   "id": "ffeb9f4f",
   "metadata": {},
   "outputs": [],
   "source": [
    "# 13. If you had a function named bacon() inside a module named spam, how would you call it after importing spam?\n",
    "# Ans. \n",
    "import spam\n",
    "spam.bacon()"
   ]
  }
 ],
 "metadata": {
  "kernelspec": {
   "display_name": "Python 3 (ipykernel)",
   "language": "python",
   "name": "python3"
  },
  "language_info": {
   "codemirror_mode": {
    "name": "ipython",
    "version": 3
   },
   "file_extension": ".py",
   "mimetype": "text/x-python",
   "name": "python",
   "nbconvert_exporter": "python",
   "pygments_lexer": "ipython3",
   "version": "3.10.9"
  }
 },
 "nbformat": 4,
 "nbformat_minor": 5
}
