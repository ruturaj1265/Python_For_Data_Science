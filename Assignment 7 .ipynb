{
 "cells": [
  {
   "cell_type": "markdown",
   "id": "31bf22b6",
   "metadata": {},
   "source": [
    "# Python Basic - 2"
   ]
  },
  {
   "cell_type": "code",
   "execution_count": 5,
   "id": "c76a9801",
   "metadata": {},
   "outputs": [
    {
     "name": "stdout",
     "output_type": "stream",
     "text": [
      "0\n",
      "25\n",
      "1\n"
     ]
    }
   ],
   "source": [
    "# Q.1. Create two int type variables, apply addition, subtraction, division and multiplications\n",
    "# and store the results in variables. Then print the data in the following format by calling the\n",
    "# variables:\n",
    "# First variable is __ & second variable is __.\n",
    "# Addition: __ + __ = __\n",
    "# Subtraction: __ - __ = __\n",
    "# Multiplication: __ * __ = __\n",
    "# Division: __ / __ = __\n",
    "\n",
    "#Ans. \n",
    "a = 5\n",
    "b = 5\n",
    "c = a + b\n",
    "c\n",
    "\n",
    "d = a-b\n",
    "print(d)\n",
    "\n",
    "e = a * b\n",
    "print(e)\n",
    "\n",
    "f = a/b\n",
    "print(round(f))"
   ]
  },
  {
   "cell_type": "code",
   "execution_count": 14,
   "id": "6612c997",
   "metadata": {},
   "outputs": [
    {
     "name": "stdout",
     "output_type": "stream",
     "text": [
      "3\n"
     ]
    },
    {
     "data": {
      "text/plain": [
       "64"
      ]
     },
     "execution_count": 14,
     "metadata": {},
     "output_type": "execute_result"
    }
   ],
   "source": [
    "# Q.2. What is the difference between the following operators:\n",
    "# (i) ‘/’ & ‘//’\n",
    "# (ii) ‘**’ & ‘^’\n",
    "\n",
    "# Ans.\n",
    "\n",
    "# '/' -->  This is the operator which gives division of the numbers.\n",
    "# '//'  ---> This is the operator which gives the round ans of the answer like\n",
    "c = 7//2\n",
    "print(c)\n",
    "\n",
    "# '**'  ---> This operator gives us exponential of the number.\n",
    "z = 4**3\n",
    "z\n",
    "\n",
    "# ' ^ '\n",
    "# '^' for bitwise XOR"
   ]
  },
  {
   "cell_type": "code",
   "execution_count": 16,
   "id": "1df0ca6d",
   "metadata": {},
   "outputs": [
    {
     "name": "stdout",
     "output_type": "stream",
     "text": [
      "False\n",
      "True\n",
      "False\n"
     ]
    }
   ],
   "source": [
    "#Q.3. List the logical operators.\n",
    "# Ans.\n",
    "# and: The \"and\" operator returns True if both operands are True otherwise, it returns False.\n",
    "\n",
    "# or: The \"or\" operator returns True if at least one of the operands is True if both operands are False, it returns False.\n",
    "\n",
    "# not: The \"not\" operator is a unary operator that returns the opposite Boolean value of its operand. If the operand is True, it returns False, and if the operand is False, it returns True.\n",
    "# Using logical operators in Python\n",
    "x = True\n",
    "y = False\n",
    "\n",
    "result1 = x and y  \n",
    "result2 = x or y   \n",
    "result3 = not x    \n",
    "print(result1)\n",
    "print(result2)\n",
    "print(result3)"
   ]
  },
  {
   "cell_type": "code",
   "execution_count": 17,
   "id": "19032670",
   "metadata": {},
   "outputs": [],
   "source": [
    "# Q.4. Explain right shift operator and left shift operator with examples.\n",
    "\n",
    "# Right Shift Operator (>>):\n",
    "# The right shift operator shifts the bits of a number to the right by a specified number of positions.\n",
    "# It effectively divides the original number by 2 raised to the power of the specified amount.\n",
    "#Left Shift Operator (<<):\n",
    "# The left shift operator shifts the bits of a number to the left by a specified number of positions.\n",
    "# It effectively multiplies the original number by 2 raised to the power of the specified amount."
   ]
  },
  {
   "cell_type": "code",
   "execution_count": 28,
   "id": "499469c3",
   "metadata": {},
   "outputs": [
    {
     "name": "stdout",
     "output_type": "stream",
     "text": [
      "Data Available\n"
     ]
    }
   ],
   "source": [
    "# Q.5. Create a list containing int type data of length 15. Then write a code to check if 10 is\n",
    "# present in the list or not.\n",
    "# Ans.\n",
    "a = [1,2,3,4,5,6,7,8,9,10,11,12,13,14,15]\n",
    "if 10 in a:\n",
    "    print(\"Data Available\")\n",
    "else:\n",
    "    print(\"Data not available\")"
   ]
  },
  {
   "cell_type": "code",
   "execution_count": null,
   "id": "7325dd4f",
   "metadata": {},
   "outputs": [],
   "source": []
  }
 ],
 "metadata": {
  "kernelspec": {
   "display_name": "Python 3 (ipykernel)",
   "language": "python",
   "name": "python3"
  },
  "language_info": {
   "codemirror_mode": {
    "name": "ipython",
    "version": 3
   },
   "file_extension": ".py",
   "mimetype": "text/x-python",
   "name": "python",
   "nbconvert_exporter": "python",
   "pygments_lexer": "ipython3",
   "version": "3.10.9"
  }
 },
 "nbformat": 4,
 "nbformat_minor": 5
}
