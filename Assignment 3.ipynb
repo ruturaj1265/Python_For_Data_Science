{
 "cells": [
  {
   "cell_type": "markdown",
   "id": "3dd74c7f",
   "metadata": {},
   "source": [
    "# ASSIGNMENT 03"
   ]
  },
  {
   "cell_type": "code",
   "execution_count": 1,
   "id": "8737652e",
   "metadata": {},
   "outputs": [],
   "source": [
    "# Q.1 Why are functions advantageous to have in your programs?\n",
    "#Ans. Code Reusability Functions allow you to write modular code that can be reused in different parts of your program or even in other programs.\n",
    "# Functions allow you to abstract away complex logic into a single, well-defined unit.\n",
    "# Functions allow you to give meaningful names to blocks of code, making code more readable and self-explanatory."
   ]
  },
  {
   "cell_type": "code",
   "execution_count": 2,
   "id": "062baa02",
   "metadata": {},
   "outputs": [],
   "source": [
    "# Q.2. When does the code in a function run: when it's specified or when it's called?\n",
    "# Ans. The code in a function runs when the function is called, not when it is specified."
   ]
  },
  {
   "cell_type": "code",
   "execution_count": 3,
   "id": "36471cdd",
   "metadata": {},
   "outputs": [],
   "source": [
    "# Q.3 What statement creates a function?\n",
    "# Ans. def statement is used to create a function."
   ]
  },
  {
   "cell_type": "code",
   "execution_count": 4,
   "id": "c6518e77",
   "metadata": {},
   "outputs": [],
   "source": [
    "# Q.4 What is the difference between a function and a function call?\n",
    "# Ans. A function is a block of code that performs a specific task or set of tasks. It is defined using the def statement.\n",
    "# A function call is the act of executing a function. It is done by using the function's name followed by parentheses,\n",
    "# optionally passing arguments (values) to the function's parameters"
   ]
  },
  {
   "cell_type": "code",
   "execution_count": 5,
   "id": "4b6b11a7",
   "metadata": {},
   "outputs": [],
   "source": [
    "# Q.5 How many global scopes are there in a Python program? How many local scopes?\n",
    "# Ans.Python program typically has one global scope, which exists outside of any function or class definition,\n",
    "# and multiple local scopes, which are created whenever a function is called or a class is instantiated."
   ]
  },
  {
   "cell_type": "code",
   "execution_count": 6,
   "id": "111f5d85",
   "metadata": {},
   "outputs": [],
   "source": [
    "# Q.6 What happens to variables in a local scope when the function call returns?\n",
    "# Ans. When a function call returns, the local scope associated with that function is destroyed,\n",
    "# and any variables defined within that local scope cease to exist. "
   ]
  },
  {
   "cell_type": "code",
   "execution_count": 7,
   "id": "b5ebd414",
   "metadata": {},
   "outputs": [
    {
     "name": "stdout",
     "output_type": "stream",
     "text": [
      "8\n"
     ]
    }
   ],
   "source": [
    "# Q.7 What is the concept of a return value? Is it possible to have a return value in an expression?\n",
    "# Ans. The return statement is used to specify the return value of a function.\n",
    "# It is typically followed by an expression or a value that is to be returned.\n",
    "\n",
    "def add_num(a,b):\n",
    "    return a + b\n",
    "print(add_num(5,3))"
   ]
  },
  {
   "cell_type": "code",
   "execution_count": 12,
   "id": "9c1e08ec",
   "metadata": {},
   "outputs": [
    {
     "name": "stdout",
     "output_type": "stream",
     "text": [
      "None\n"
     ]
    }
   ],
   "source": [
    "# Q.8 If a function does not have a return statement, what is the return value of a call to that function?\n",
    "# Ans. If a function does not specify a return statement, the implicit return value is None. \n",
    "# Example :\n",
    "def add_num(a,b):\n",
    "    a + b\n",
    "print(add_num(5,3))\n",
    "\n",
    "# In the above example if we have assigned return statement then the function have given us the correct calculatyed answer."
   ]
  },
  {
   "cell_type": "code",
   "execution_count": 14,
   "id": "d7d3890e",
   "metadata": {},
   "outputs": [
    {
     "name": "stdout",
     "output_type": "stream",
     "text": [
      "I am a global variable\n"
     ]
    }
   ],
   "source": [
    "# Q.9 How do you make a function variable refer to the global variable?\n",
    "# Ans. to make a function variable refer to a global variable, you need to use the global keyword before the variable name inside the function.\n",
    "# This informs Python that the variable should be treated as a global variable, allowing you to access and modify its value within the function.\n",
    "\n",
    "global_var = \"I am a global variable\"\n",
    "def access_global_variable():\n",
    "    print(global_var)  # Accessing the global variable\n",
    "\n",
    "access_global_variable()\n"
   ]
  },
  {
   "cell_type": "code",
   "execution_count": 17,
   "id": "85aab7c5",
   "metadata": {},
   "outputs": [
    {
     "name": "stdout",
     "output_type": "stream",
     "text": [
      "<class 'NoneType'>\n"
     ]
    }
   ],
   "source": [
    "# Q.10 What is the data type of None?\n",
    "# Ans. \n",
    "print(type(None))"
   ]
  },
  {
   "cell_type": "code",
   "execution_count": 18,
   "id": "ffa4ca28",
   "metadata": {},
   "outputs": [
    {
     "ename": "ModuleNotFoundError",
     "evalue": "No module named 'areallyourpetsnamederic'",
     "output_type": "error",
     "traceback": [
      "\u001b[1;31m---------------------------------------------------------------------------\u001b[0m",
      "\u001b[1;31mModuleNotFoundError\u001b[0m                       Traceback (most recent call last)",
      "Cell \u001b[1;32mIn[18], line 4\u001b[0m\n\u001b[0;32m      1\u001b[0m \u001b[38;5;66;03m# Q.11 What does the sentence import areallyourpetsnamederic do? \u001b[39;00m\n\u001b[0;32m      2\u001b[0m \u001b[38;5;66;03m#Ans. The sentence \"import areallyourpetsnamederic\" does not have any inherent meaning\u001b[39;00m\n\u001b[1;32m----> 4\u001b[0m \u001b[38;5;28;01mimport\u001b[39;00m \u001b[38;5;21;01mareallyourpetsnamederic\u001b[39;00m\n",
      "\u001b[1;31mModuleNotFoundError\u001b[0m: No module named 'areallyourpetsnamederic'"
     ]
    }
   ],
   "source": [
    "# Q.11 What does the sentence import areallyourpetsnamederic do? \n",
    "#Ans. The sentence \"import areallyourpetsnamederic\" does not have any inherent meaning.\n",
    "# would result in a ModuleNotFoundError. \n",
    "\n",
    "import areallyourpetsnamederic"
   ]
  },
  {
   "cell_type": "code",
   "execution_count": 21,
   "id": "a8863f27",
   "metadata": {},
   "outputs": [],
   "source": [
    "# Q.12 If you had a bacon() feature in a spam module, what would you call it after importing spam?\n",
    "# Ans. \n",
    "\n",
    "# import spam\n",
    "# spam.bacon()"
   ]
  },
  {
   "cell_type": "code",
   "execution_count": 23,
   "id": "4e4be2c1",
   "metadata": {},
   "outputs": [],
   "source": [
    "# Q.13 What can you do to save a programme from crashing if it encounters an error?\n",
    "# Ans. To save a program from crashing when encountering an error, you can use exception handling techniques.\n",
    "# Exception handling allows you to catch and handle specific errors or exceptions that might occur during program execution.\n",
    "#  Implement logging to record information about the error or exception. Logging allows you to capture details about the error, such as the error message, stack trace, and other relevant information.\n",
    "#It helps with debugging and analyzing issues in a production environment. Implement logging to record information about the error or exception. Logging allows you to capture details about the error, such as the error message, stack trace, and other relevant information.\n",
    "#It helps with debugging and analyzing issues in a production environment.\n",
    "\n",
    "#try:\n",
    "    # Code that might raise an exception\n",
    "    # ...\n",
    "#except ExceptionType1:\n",
    "    # Code to handle ExceptionType1\n",
    "    # ...\n",
    "# except ExceptionType2:\n",
    "    # Code to handle ExceptionType2\n",
    "    # ...\n"
   ]
  },
  {
   "cell_type": "code",
   "execution_count": 24,
   "id": "dcff4c89",
   "metadata": {},
   "outputs": [],
   "source": [
    "# Q.14 What is the purpose of the try clause? What is the purpose of the except clause?\n",
    "# Ans. The main purpose of the try clause is to *exception Detection, *Error handling.\n",
    "# And the main purpose of the except clause is *Exception handling, *Error Recovery."
   ]
  },
  {
   "cell_type": "code",
   "execution_count": null,
   "id": "762e80f9",
   "metadata": {},
   "outputs": [],
   "source": []
  }
 ],
 "metadata": {
  "kernelspec": {
   "display_name": "Python 3 (ipykernel)",
   "language": "python",
   "name": "python3"
  },
  "language_info": {
   "codemirror_mode": {
    "name": "ipython",
    "version": 3
   },
   "file_extension": ".py",
   "mimetype": "text/x-python",
   "name": "python",
   "nbconvert_exporter": "python",
   "pygments_lexer": "ipython3",
   "version": "3.10.9"
  }
 },
 "nbformat": 4,
 "nbformat_minor": 5
}
