{
 "cells": [
  {
   "cell_type": "code",
   "execution_count": 4,
   "id": "3f55cf41",
   "metadata": {},
   "outputs": [
    {
     "name": "stdout",
     "output_type": "stream",
     "text": [
      "7\n",
      "25\n"
     ]
    }
   ],
   "source": [
    "# 1. In Python, what is the difference between a built-in function and a user-defined function? Provide an example of each.\n",
    "# Ans. Built-in functions:\n",
    "# Built-in functions are pre-defined functions that are included in the Python language and are readily available for use without requiring any explicit definition.\n",
    "# Python comes with rich set of built in functions which performs various task.\n",
    "name = \"Ruturaj\"\n",
    "print(len(name))  # Here len() is in built function\n",
    "\n",
    "# User defined function\n",
    "# functions created by the programmer to perform specific tasks or actions based on their requirements.\n",
    "# Unlike built-in functions, user-defined functions need to be explicitly defined using the def keyword followed by a function name.\n",
    "def sq(a):\n",
    "    return a**2\n",
    "print(sq(5))   # In tghis example we created user def function of square which is defined as 'sq' to perform square operation."
   ]
  },
  {
   "cell_type": "code",
   "execution_count": 11,
   "id": "44046102",
   "metadata": {},
   "outputs": [
    {
     "name": "stdout",
     "output_type": "stream",
     "text": [
      "Hello your, first_name = Ruturaj, last_name = Chavan\n"
     ]
    }
   ],
   "source": [
    "# 2. How can you pass arguments to a function in Python? Explain the difference between positional \n",
    "# arguments and keyword arguments.\n",
    "# Ans.  When you call a function, the values you provide in the function call are matched to the function's parameters based on their position in the function definition.\n",
    "def name(first_name, last_name):\n",
    "    return f\"Hello {first_name} {last_name}\"\n",
    "name(\"Ruturaj\", \"Chavan\")   # This is the example of positional arguments.\n",
    "\n",
    "# Keyword arguments allow you to pass arguments to a function using the names of the function parameters. Instead of relying on the order,\n",
    "# you explicitly mention the parameter names along with their corresponding values when calling the function. \n",
    "def name(a,b):\n",
    "    print(f\"Hello your, first_name = {a}, last_name = {b}\")\n",
    "name(\"Ruturaj\",\"Chavan\")   #This is the example of keyword arguments\n",
    "# Difference between positional arguments and keyword arguments:\n",
    "\n",
    "# Order:\n",
    "# For positional arguments, the order in which the arguments are passed in the function call must match the order of parameters in the function definition.\n",
    "# For keyword arguments, you specify the parameter names explicitly along with their corresponding values, making the order of the arguments irrelevant.\n",
    "\n",
    "# Flexibility:\n",
    "# With positional arguments, you need to remember the correct order of parameters, which can be error-prone, especially for functions with many parameters.\n",
    "# Keyword arguments offer greater flexibility as you can directly specify the name of the parameter and its corresponding value, making it clear which value is intended for which parameter."
   ]
  },
  {
   "cell_type": "code",
   "execution_count": 23,
   "id": "90ffc03d",
   "metadata": {},
   "outputs": [
    {
     "name": "stdout",
     "output_type": "stream",
     "text": [
      "5.0\n",
      "Number cannot divisible by zero\n"
     ]
    }
   ],
   "source": [
    "# 3. What is the purpose of the return statement in a function? Can a function have multiple return statements? Explain with an example.\n",
    "# The purpose of the return statement in a function is to specify the value that the function should evaluate to and send back to the caller.\n",
    "# the function stops its execution and returns the specified value (if any) to the calling code. \n",
    "# Yes, a function can have multiple return statements.\n",
    "# However, once a return statement is executed, the function terminates immediately,\n",
    "# and the value provided by the return statement is returned to the caller. \n",
    "def calc(a,b):\n",
    "    if b == 0:\n",
    "        return \"Number cannot divisible by zero\"\n",
    "    n = a/b\n",
    "    return n\n",
    "n = calc(10,2)\n",
    "n1 = calc(10,0)\n",
    "print(n)\n",
    "print(n1)"
   ]
  },
  {
   "cell_type": "code",
   "execution_count": 31,
   "id": "53d2147a",
   "metadata": {},
   "outputs": [
    {
     "name": "stdout",
     "output_type": "stream",
     "text": [
      "625\n",
      "2500\n"
     ]
    }
   ],
   "source": [
    "# 4. What are lambda functions in Python? How are they different from regular functions? Provide an\n",
    "# example where a lambda function can be useful.\n",
    "# Lambda functions in Python are a way to create small, anonymous functions without using the def keyword.\n",
    "def sq(a):\n",
    "    return a**2\n",
    "print(sq(25))\n",
    "\n",
    "sq = lambda x: x**2\n",
    "print(sq(50))"
   ]
  },
  {
   "cell_type": "code",
   "execution_count": 37,
   "id": "a14a73ed",
   "metadata": {},
   "outputs": [
    {
     "name": "stdout",
     "output_type": "stream",
     "text": [
      "10\n",
      "200\n",
      "20\n"
     ]
    }
   ],
   "source": [
    "# 5. How does the concept of \"scope\" apply to functions in Python? Explain the difference between local scope and global scope.\n",
    "# Ans. A variable that is defined inside a function has a local scope. \n",
    "def my_calc():\n",
    "    num = 10\n",
    "    print(num)\n",
    "my_calc()\n",
    "\n",
    "# A variable that is defined outside of any function or block has a global scope.\n",
    "x = 200\n",
    "def my_func():\n",
    "    print(x)\n",
    "my_func()\n",
    "\n",
    "def modify_global():\n",
    "    global x\n",
    "    x = 20\n",
    "modify_global()\n",
    "print(x)"
   ]
  },
  {
   "cell_type": "code",
   "execution_count": 40,
   "id": "c6962093",
   "metadata": {},
   "outputs": [
    {
     "data": {
      "text/plain": [
       "(1, 2, 'Ruturaj', 4, 5)"
      ]
     },
     "execution_count": 40,
     "metadata": {},
     "output_type": "execute_result"
    }
   ],
   "source": [
    "# 6. How can you use the \"return\" statement in a Python function to return multiple values?\n",
    "# Ans.\n",
    "def my_calc(a,b,c,d,e):\n",
    "    return a,b,c,d,e\n",
    "my_calc(1,2,\"Ruturaj\",4,5)"
   ]
  },
  {
   "cell_type": "code",
   "execution_count": 42,
   "id": "db015461",
   "metadata": {},
   "outputs": [
    {
     "name": "stdout",
     "output_type": "stream",
     "text": [
      "[1, 2, 3, 4]\n",
      "10\n"
     ]
    }
   ],
   "source": [
    "# 7. What is the difference between the \"pass by value\" and \"pass by reference\" concepts when it\n",
    "# comes to function arguments in Python?\n",
    "# Pass by Value:\n",
    "# In pass by value, a copy of the value of the variable is passed to the function as an argument.\n",
    "# Any changes made to the parameter inside the function do not affect the original variable outside the function.\n",
    "# Essentially, the function works with a copy of the value, and the original variable remains unchanged.\n",
    "\n",
    "# In pass by reference, a reference or memory address of the variable is passed to the function as an argument.\n",
    "# Any changes made to the parameter inside the function directly affect the original variable outside the function.\n",
    "# This means that the function works directly with the original variable and can modify it.\n",
    "\n",
    "def modify_list(some_list):\n",
    "    some_list.append(4)\n",
    "\n",
    "my_list = [1, 2, 3]\n",
    "modify_list(my_list)\n",
    "print(my_list) \n",
    "\n",
    "# Example of not being able to modify immutable objects (integers)\n",
    "def modify_int(some_int):\n",
    "    some_int += 1\n",
    "x = 10\n",
    "modify_int(x)\n",
    "print(x) \n",
    "# In the first example, the function modifies the mutable list, and the changes are reflected outside the function because lists are mutable.\n",
    "# In the second example, the function tries to modify an immutable integer, but the change is not reflected outside the function because integers are immutable."
   ]
  },
  {
   "cell_type": "code",
   "execution_count": 51,
   "id": "a7b2dce9",
   "metadata": {},
   "outputs": [
    {
     "data": {
      "text/plain": [
       "(0.6931471805599453, 1.7320508075688772, 54.598150033144236, 3125)"
      ]
     },
     "execution_count": 51,
     "metadata": {},
     "output_type": "execute_result"
    }
   ],
   "source": [
    "# 8. Create a function that can intake integer or decimal value and do following operations:\n",
    "# a. Logarithmic function (log x)\n",
    "# b. Exponential function (exp(x))\n",
    "# c. Power function with base 2 (2)\n",
    "# d. Square root\n",
    "\n",
    "import math\n",
    "\n",
    "\n",
    "def calc(x):\n",
    "    lg = math.log(2)\n",
    "    sq = math.sqrt(3)\n",
    "    xp = math.exp(4)\n",
    "    bs = pow(5,x)\n",
    "    \n",
    "    return lg,sq,xp,bs\n",
    "calc(5)"
   ]
  },
  {
   "cell_type": "code",
   "execution_count": 55,
   "id": "6cb22159",
   "metadata": {},
   "outputs": [
    {
     "name": "stdout",
     "output_type": "stream",
     "text": [
      "Enter your first name: Ruturaj\n",
      "Enter your last name: Chavan\n",
      "Your first name is Ruturaj and your last name is Chavan\n"
     ]
    }
   ],
   "source": [
    "# 9. Create a function that takes a full name as an argument and returns first name and last name.\n",
    "# Ans.\n",
    "def name():\n",
    "    first_name = input(\"Enter your first name: \")\n",
    "    last_name = input(\"Enter your last name: \")\n",
    "    print(f\"Your first name is {first_name} and your last name is {last_name}\")\n",
    "name()"
   ]
  },
  {
   "cell_type": "code",
   "execution_count": null,
   "id": "1f49aa99",
   "metadata": {},
   "outputs": [],
   "source": []
  }
 ],
 "metadata": {
  "kernelspec": {
   "display_name": "Python 3 (ipykernel)",
   "language": "python",
   "name": "python3"
  },
  "language_info": {
   "codemirror_mode": {
    "name": "ipython",
    "version": 3
   },
   "file_extension": ".py",
   "mimetype": "text/x-python",
   "name": "python",
   "nbconvert_exporter": "python",
   "pygments_lexer": "ipython3",
   "version": "3.10.9"
  }
 },
 "nbformat": 4,
 "nbformat_minor": 5
}
